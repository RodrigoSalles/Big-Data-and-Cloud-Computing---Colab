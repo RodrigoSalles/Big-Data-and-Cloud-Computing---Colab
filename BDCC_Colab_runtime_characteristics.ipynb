{
  "nbformat": 4,
  "nbformat_minor": 0,
  "metadata": {
    "colab": {
      "name": "BDCC - Colab runtime characteristics",
      "provenance": [],
      "collapsed_sections": [],
      "toc_visible": true,
      "include_colab_link": true
    },
    "kernelspec": {
      "name": "python3",
      "display_name": "Python 3"
    }
  },
  "cells": [
    {
      "cell_type": "markdown",
      "metadata": {
        "id": "view-in-github",
        "colab_type": "text"
      },
      "source": [
        "<a href=\"https://colab.research.google.com/github/RodrigoSalles/Big-Data-and-Cloud-Computing---Colab/blob/master/BDCC_Colab_runtime_characteristics.ipynb\" target=\"_parent\"><img src=\"https://colab.research.google.com/assets/colab-badge.svg\" alt=\"Open In Colab\"/></a>"
      ]
    },
    {
      "cell_type": "markdown",
      "metadata": {
        "id": "6H5udvifsG_j",
        "colab_type": "text"
      },
      "source": [
        "# Google Colab - inspection of runtime characteristics\n",
        "\n",
        "**[Big Data and Cloud Computing](https://www.dcc.fc.up.pt/~edrdo/aulas/bdcc), Eduardo R. B. Marques, DCC/FCUP**\n",
        "\n",
        "This notebook lets you inspect the basic runtime characteristics of the Colab runtime. \n",
        "\n",
        "Note that these characteristics may be different from time to time - check \"Resource Limits\" in the [Colab FAQ](https://research.google.com/colaboratory/faq.html)."
      ]
    },
    {
      "cell_type": "markdown",
      "metadata": {
        "id": "WGMA2UOHmm6B",
        "colab_type": "text"
      },
      "source": [
        "## Linux version & distribution"
      ]
    },
    {
      "cell_type": "code",
      "metadata": {
        "id": "pWtysPntmpaE",
        "colab_type": "code",
        "colab": {}
      },
      "source": [
        "!uname -a\n",
        "!cat /etc/lsb-release | grep DESCRIPTION"
      ],
      "execution_count": 0,
      "outputs": []
    },
    {
      "cell_type": "markdown",
      "metadata": {
        "id": "b3NGiTR5lQPB",
        "colab_type": "text"
      },
      "source": [
        "## CPU"
      ]
    },
    {
      "cell_type": "code",
      "metadata": {
        "id": "pQK2iDX9lU3a",
        "colab_type": "code",
        "colab": {}
      },
      "source": [
        "!lscpu"
      ],
      "execution_count": 0,
      "outputs": []
    },
    {
      "cell_type": "markdown",
      "metadata": {
        "id": "7Nv-3HyBlqY7",
        "colab_type": "text"
      },
      "source": [
        "## Memory"
      ]
    },
    {
      "cell_type": "code",
      "metadata": {
        "id": "Nmk6bePYlu7h",
        "colab_type": "code",
        "colab": {}
      },
      "source": [
        "!free --human\n"
      ],
      "execution_count": 0,
      "outputs": []
    },
    {
      "cell_type": "markdown",
      "metadata": {
        "id": "DMjeXN_Qm1s-",
        "colab_type": "text"
      },
      "source": [
        "## Disk"
      ]
    },
    {
      "cell_type": "code",
      "metadata": {
        "id": "0zsoQJEcm4Vz",
        "colab_type": "code",
        "colab": {}
      },
      "source": [
        "!df --human"
      ],
      "execution_count": 0,
      "outputs": []
    },
    {
      "cell_type": "markdown",
      "metadata": {
        "id": "nBwT6NbaoJFT",
        "colab_type": "text"
      },
      "source": [
        "## GPU \n",
        "\n",
        "To enable the GPU access __Edit > Notebook settings__ and set the __Hardware accelerator__ to __GPU__."
      ]
    },
    {
      "cell_type": "code",
      "metadata": {
        "id": "pUxGzcjjoNjy",
        "colab_type": "code",
        "colab": {}
      },
      "source": [
        "%tensorflow_version 2.x \n",
        "import tensorflow as tf\n",
        "\n",
        "print(\"GPU device: \" + tf.test.gpu_device_name())\n",
        "\n",
        "from tensorflow.python.client import device_lib\n",
        "\n",
        "tf_devices = device_lib.list_local_devices()\n",
        "\n",
        "for x in tf_devices:\n",
        "  print('------')\n",
        "  print(x)\n"
      ],
      "execution_count": 0,
      "outputs": []
    }
  ]
}