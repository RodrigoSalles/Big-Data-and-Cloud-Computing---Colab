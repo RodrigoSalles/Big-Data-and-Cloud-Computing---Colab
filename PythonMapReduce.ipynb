{
  "nbformat": 4,
  "nbformat_minor": 0,
  "metadata": {
    "kernelspec": {
      "display_name": "Python 3",
      "language": "python",
      "name": "python3"
    },
    "language_info": {
      "codemirror_mode": {
        "name": "ipython",
        "version": 3
      },
      "file_extension": ".py",
      "mimetype": "text/x-python",
      "name": "python",
      "nbconvert_exporter": "python",
      "pygments_lexer": "ipython3",
      "version": "3.6.5"
    },
    "colab": {
      "name": "PythonMapReduce",
      "provenance": [],
      "collapsed_sections": [],
      "include_colab_link": true
    }
  },
  "cells": [
    {
      "cell_type": "markdown",
      "metadata": {
        "id": "view-in-github",
        "colab_type": "text"
      },
      "source": [
        "<a href=\"https://colab.research.google.com/github/RodrigoSalles/Big-Data-and-Cloud-Computing---Colab/blob/master/PythonMapReduce.ipynb\" target=\"_parent\"><img src=\"https://colab.research.google.com/assets/colab-badge.svg\" alt=\"Open In Colab\"/></a>"
      ]
    },
    {
      "cell_type": "markdown",
      "metadata": {
        "id": "Hv_4htNIOyrN",
        "colab_type": "text"
      },
      "source": [
        "# Python - map and reduce operators\n",
        "\n",
        "**[Big Data and Cloud Computing](http://www.dcc.fc.up.pt/~edrdo/aulas/bdcc)**, Eduardo R.B. Marques, DCC/FCUP\n"
      ]
    },
    {
      "cell_type": "markdown",
      "metadata": {
        "id": "NV-9AeLHWyPk",
        "colab_type": "text"
      },
      "source": [
        "## Use with explicitly defined functions\n",
        "\n",
        "\n"
      ]
    },
    {
      "cell_type": "code",
      "metadata": {
        "id": "f6MUSEsYYHEj",
        "colab_type": "code",
        "outputId": "0e09f6fe-f7cc-4887-a39a-1f7313b03e94",
        "colab": {
          "base_uri": "https://localhost:8080/",
          "height": 70
        }
      },
      "source": [
        "from functools import reduce\n",
        "\n",
        "def f(x):\n",
        "  return x + 1\n",
        "\n",
        "def r(x,y):\n",
        "  return x + y\n",
        "\n",
        "a = [1,2,3]\n",
        "b = list(map(f, a))\n",
        "r = reduce(r, a)\n",
        "\n",
        "print('a=%s' % a)\n",
        "print('b=%s' % b)\n",
        "print('r=%d' % r)"
      ],
      "execution_count": 0,
      "outputs": [
        {
          "output_type": "stream",
          "text": [
            "a=[1, 2, 3]\n",
            "b=[2, 3, 4]\n",
            "r=6\n"
          ],
          "name": "stdout"
        }
      ]
    },
    {
      "cell_type": "markdown",
      "metadata": {
        "id": "kRm9AmmrYIzq",
        "colab_type": "text"
      },
      "source": [
        "## Use with lambda expressions"
      ]
    },
    {
      "cell_type": "code",
      "metadata": {
        "id": "bjoLZCezW4Wf",
        "colab_type": "code",
        "outputId": "32f6b6b1-a72a-4e79-c3e7-a9bb7a881bef",
        "colab": {
          "base_uri": "https://localhost:8080/",
          "height": 70
        }
      },
      "source": [
        "a = [1,2,3,4,5]\n",
        "b = list(map(lambda x: x + 1, a))\n",
        "r = reduce(lambda x, y: x + y, a)\n",
        "\n",
        "print('a=%s' % a)\n",
        "print('b=%s' % b)\n",
        "print('r=%d' % r)\n"
      ],
      "execution_count": 0,
      "outputs": [
        {
          "output_type": "stream",
          "text": [
            "a=[1, 2, 3, 4, 5]\n",
            "b=[2, 3, 4, 5, 6]\n",
            "r=120\n"
          ],
          "name": "stdout"
        }
      ]
    }
  ]
}