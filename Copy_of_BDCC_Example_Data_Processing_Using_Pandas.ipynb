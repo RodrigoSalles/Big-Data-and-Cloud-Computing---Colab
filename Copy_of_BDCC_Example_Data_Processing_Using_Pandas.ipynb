{
  "nbformat": 4,
  "nbformat_minor": 0,
  "metadata": {
    "colab": {
      "name": "Copy of BDCC - Example Data Processing Using Pandas.ipynb",
      "provenance": [],
      "collapsed_sections": [],
      "toc_visible": true,
      "include_colab_link": true
    },
    "kernelspec": {
      "name": "python3",
      "display_name": "Python 3"
    }
  },
  "cells": [
    {
      "cell_type": "markdown",
      "metadata": {
        "id": "view-in-github",
        "colab_type": "text"
      },
      "source": [
        "<a href=\"https://colab.research.google.com/github/RodrigoSalles/Big-Data-and-Cloud-Computing---Colab/blob/master/Copy_of_BDCC_Example_Data_Processing_Using_Pandas.ipynb\" target=\"_parent\"><img src=\"https://colab.research.google.com/assets/colab-badge.svg\" alt=\"Open In Colab\"/></a>"
      ]
    },
    {
      "cell_type": "markdown",
      "metadata": {
        "id": "37-PlDmhM4sU",
        "colab_type": "text"
      },
      "source": [
        "# Example data processing using the pandas API\n",
        "  \n",
        "\n",
        "**[Big Data and Cloud Computing](https://www.dcc.fc.up.pt/~edrdo/aulas/bdcc), Eduardo R. B. Marques, DCC/FCUP**\n",
        "\n",
        "To illustrate some simple data processing in Colab,we will make use of the popular [pandas](https://pandas.pydata.org/) library, in particular the [DataFrame](https://pandas.pydata.org/pandas-docs/stable/reference/api/pandas.DataFrame.html) API.\n",
        "\n",
        "\n",
        "  \n"
      ]
    },
    {
      "cell_type": "code",
      "metadata": {
        "id": "UgMpdnyE2TNa",
        "colab_type": "code",
        "colab": {}
      },
      "source": [
        "# Load the Pandas libraries with alias 'pd' \n",
        "import pandas as pd "
      ],
      "execution_count": 0,
      "outputs": []
    },
    {
      "cell_type": "markdown",
      "metadata": {
        "id": "FSXZJSZH2t2h",
        "colab_type": "text"
      },
      "source": [
        "## References\n",
        "\n",
        "- [Data Manipulation with Pandas](https://jakevdp.github.io/PythonDataScienceHandbook/03.00-introduction-to-pandas.html), chapter 3 of the [Python Data Science Handbook](https://jakevdp.github.io/PythonDataScienceHandbook/index.html) (freely available online) by [Jake VanderPlas](http://vanderplas.com/).\n",
        "- Official documentation\n",
        " - [Getting started](https://pandas.pydata.org/docs/getting_started/) guide:\n",
        "   - [10 minutes to pandas](https://pandas.pydata.org/docs/getting_started/10min.html)\n",
        "   - [Introduction to DataFrame](https://pandas.pydata.org/docs/getting_started/dsintro.html#dataframe)\n",
        "  - [Complete API Reference](https://pandas.pydata.org/docs/reference/index.html), including the features we make use of here:\n",
        "    - [DataFrame API](https://pandas.pydata.org/pandas-docs/stable/reference/api/pandas.DataFrame.html)\n",
        "    - [Input/Ouput](https://pandas.pydata.org/docs/reference/io.html)\n"
      ]
    },
    {
      "cell_type": "markdown",
      "metadata": {
        "id": "6oU8fhXv1tnN",
        "colab_type": "text"
      },
      "source": [
        "## The MovieLens data set\n",
        "\n",
        "We will use a small [MovieLens](https://grouplens.org/datasets/movielens/) data set from the [GroupLens project](https://grouplens.org/). \n",
        "\n",
        "The following commands will fetch the\n",
        "data set and store it into a folder in the `/tmp` directory of the Colab runtime.\n",
        "\n",
        "Mount your Google Drive so that data can be saved to `/content/drive/My Drive/bdcc/lab2`, then set the `use_google_drive` to `True` below.\n"
      ]
    },
    {
      "cell_type": "code",
      "metadata": {
        "id": "JabwmUk7N5rq",
        "colab_type": "code",
        "outputId": "60c65cd1-574e-4853-b390-48b34e77624b",
        "colab": {
          "base_uri": "https://localhost:8080/",
          "height": 204
        }
      },
      "source": [
        "use_google_drive=True\n",
        "if (use_google_drive):\n",
        "  root = '/content/drive/My Drive/bdcc/lab2'\n",
        "else:\n",
        "  root = '/tmp/bdcc/lab2'\n",
        "\n",
        "!mkdir -p \"$root\"\n",
        "!curl http://files.grouplens.org/datasets/movielens/ml-latest-small.zip -o \"$root/ml-latest-small.zip\"\n",
        "!cd \"$root\" && unzip -o ml-latest-small.zip \n",
        "!ls \"$root/ml-latest-small\""
      ],
      "execution_count": 0,
      "outputs": [
        {
          "output_type": "stream",
          "text": [
            "  % Total    % Received % Xferd  Average Speed   Time    Time     Time  Current\n",
            "                                 Dload  Upload   Total   Spent    Left  Speed\n",
            "\r  0     0    0     0    0     0      0      0 --:--:-- --:--:-- --:--:--     0\r  0     0    0     0    0     0      0      0 --:--:-- --:--:-- --:--:--     0\r100  955k  100  955k    0     0  2231k      0 --:--:-- --:--:-- --:--:-- 2226k\n",
            "Archive:  ml-latest-small.zip\n",
            "   creating: ml-latest-small/\n",
            "  inflating: ml-latest-small/links.csv  \n",
            "  inflating: ml-latest-small/tags.csv  \n",
            "  inflating: ml-latest-small/ratings.csv  \n",
            "  inflating: ml-latest-small/README.txt  \n",
            "  inflating: ml-latest-small/movies.csv  \n",
            "links.csv  movies.csv  ratings.csv  README.txt\ttags.csv\n"
          ],
          "name": "stdout"
        }
      ]
    },
    {
      "cell_type": "markdown",
      "metadata": {
        "id": "eGQPxGEDPdDT",
        "colab_type": "text"
      },
      "source": [
        "### A brief look at the data"
      ]
    },
    {
      "cell_type": "code",
      "metadata": {
        "id": "q8iV6-npP1li",
        "colab_type": "code",
        "colab": {}
      },
      "source": [
        "dataset_path = root + '/ml-latest-small/'"
      ],
      "execution_count": 0,
      "outputs": []
    },
    {
      "cell_type": "markdown",
      "metadata": {
        "id": "OiK3oRnQPh4G",
        "colab_type": "text"
      },
      "source": [
        "#### Movies"
      ]
    },
    {
      "cell_type": "code",
      "metadata": {
        "id": "z4Q_jnWfPVjs",
        "colab_type": "code",
        "outputId": "d91213b5-89a4-4a1f-b75c-da72fd71434b",
        "colab": {
          "base_uri": "https://localhost:8080/",
          "height": 419
        }
      },
      "source": [
        "# Load movie data frame from the CSV file\n",
        "movies = pd.read_csv(dataset_path + 'movies.csv') \n",
        "movies"
      ],
      "execution_count": 0,
      "outputs": [
        {
          "output_type": "execute_result",
          "data": {
            "text/html": [
              "<div>\n",
              "<style scoped>\n",
              "    .dataframe tbody tr th:only-of-type {\n",
              "        vertical-align: middle;\n",
              "    }\n",
              "\n",
              "    .dataframe tbody tr th {\n",
              "        vertical-align: top;\n",
              "    }\n",
              "\n",
              "    .dataframe thead th {\n",
              "        text-align: right;\n",
              "    }\n",
              "</style>\n",
              "<table border=\"1\" class=\"dataframe\">\n",
              "  <thead>\n",
              "    <tr style=\"text-align: right;\">\n",
              "      <th></th>\n",
              "      <th>movieId</th>\n",
              "      <th>title</th>\n",
              "      <th>genres</th>\n",
              "    </tr>\n",
              "  </thead>\n",
              "  <tbody>\n",
              "    <tr>\n",
              "      <th>0</th>\n",
              "      <td>1</td>\n",
              "      <td>Toy Story (1995)</td>\n",
              "      <td>Adventure|Animation|Children|Comedy|Fantasy</td>\n",
              "    </tr>\n",
              "    <tr>\n",
              "      <th>1</th>\n",
              "      <td>2</td>\n",
              "      <td>Jumanji (1995)</td>\n",
              "      <td>Adventure|Children|Fantasy</td>\n",
              "    </tr>\n",
              "    <tr>\n",
              "      <th>2</th>\n",
              "      <td>3</td>\n",
              "      <td>Grumpier Old Men (1995)</td>\n",
              "      <td>Comedy|Romance</td>\n",
              "    </tr>\n",
              "    <tr>\n",
              "      <th>3</th>\n",
              "      <td>4</td>\n",
              "      <td>Waiting to Exhale (1995)</td>\n",
              "      <td>Comedy|Drama|Romance</td>\n",
              "    </tr>\n",
              "    <tr>\n",
              "      <th>4</th>\n",
              "      <td>5</td>\n",
              "      <td>Father of the Bride Part II (1995)</td>\n",
              "      <td>Comedy</td>\n",
              "    </tr>\n",
              "    <tr>\n",
              "      <th>...</th>\n",
              "      <td>...</td>\n",
              "      <td>...</td>\n",
              "      <td>...</td>\n",
              "    </tr>\n",
              "    <tr>\n",
              "      <th>9737</th>\n",
              "      <td>193581</td>\n",
              "      <td>Black Butler: Book of the Atlantic (2017)</td>\n",
              "      <td>Action|Animation|Comedy|Fantasy</td>\n",
              "    </tr>\n",
              "    <tr>\n",
              "      <th>9738</th>\n",
              "      <td>193583</td>\n",
              "      <td>No Game No Life: Zero (2017)</td>\n",
              "      <td>Animation|Comedy|Fantasy</td>\n",
              "    </tr>\n",
              "    <tr>\n",
              "      <th>9739</th>\n",
              "      <td>193585</td>\n",
              "      <td>Flint (2017)</td>\n",
              "      <td>Drama</td>\n",
              "    </tr>\n",
              "    <tr>\n",
              "      <th>9740</th>\n",
              "      <td>193587</td>\n",
              "      <td>Bungo Stray Dogs: Dead Apple (2018)</td>\n",
              "      <td>Action|Animation</td>\n",
              "    </tr>\n",
              "    <tr>\n",
              "      <th>9741</th>\n",
              "      <td>193609</td>\n",
              "      <td>Andrew Dice Clay: Dice Rules (1991)</td>\n",
              "      <td>Comedy</td>\n",
              "    </tr>\n",
              "  </tbody>\n",
              "</table>\n",
              "<p>9742 rows × 3 columns</p>\n",
              "</div>"
            ],
            "text/plain": [
              "      movieId  ...                                       genres\n",
              "0           1  ...  Adventure|Animation|Children|Comedy|Fantasy\n",
              "1           2  ...                   Adventure|Children|Fantasy\n",
              "2           3  ...                               Comedy|Romance\n",
              "3           4  ...                         Comedy|Drama|Romance\n",
              "4           5  ...                                       Comedy\n",
              "...       ...  ...                                          ...\n",
              "9737   193581  ...              Action|Animation|Comedy|Fantasy\n",
              "9738   193583  ...                     Animation|Comedy|Fantasy\n",
              "9739   193585  ...                                        Drama\n",
              "9740   193587  ...                             Action|Animation\n",
              "9741   193609  ...                                       Comedy\n",
              "\n",
              "[9742 rows x 3 columns]"
            ]
          },
          "metadata": {
            "tags": []
          },
          "execution_count": 4
        }
      ]
    },
    {
      "cell_type": "markdown",
      "metadata": {
        "id": "qFIFBGLpQYJG",
        "colab_type": "text"
      },
      "source": [
        "#### Tags"
      ]
    },
    {
      "cell_type": "code",
      "metadata": {
        "id": "3WxU3Gy1QgPh",
        "colab_type": "code",
        "outputId": "daa8eef9-08cc-4d02-a722-adb4653452fb",
        "colab": {
          "base_uri": "https://localhost:8080/",
          "height": 419
        }
      },
      "source": [
        "tags = pd.read_csv(dataset_path + 'tags.csv')\n",
        "tags"
      ],
      "execution_count": 0,
      "outputs": [
        {
          "output_type": "execute_result",
          "data": {
            "text/html": [
              "<div>\n",
              "<style scoped>\n",
              "    .dataframe tbody tr th:only-of-type {\n",
              "        vertical-align: middle;\n",
              "    }\n",
              "\n",
              "    .dataframe tbody tr th {\n",
              "        vertical-align: top;\n",
              "    }\n",
              "\n",
              "    .dataframe thead th {\n",
              "        text-align: right;\n",
              "    }\n",
              "</style>\n",
              "<table border=\"1\" class=\"dataframe\">\n",
              "  <thead>\n",
              "    <tr style=\"text-align: right;\">\n",
              "      <th></th>\n",
              "      <th>userId</th>\n",
              "      <th>movieId</th>\n",
              "      <th>tag</th>\n",
              "      <th>timestamp</th>\n",
              "    </tr>\n",
              "  </thead>\n",
              "  <tbody>\n",
              "    <tr>\n",
              "      <th>0</th>\n",
              "      <td>2</td>\n",
              "      <td>60756</td>\n",
              "      <td>funny</td>\n",
              "      <td>1445714994</td>\n",
              "    </tr>\n",
              "    <tr>\n",
              "      <th>1</th>\n",
              "      <td>2</td>\n",
              "      <td>60756</td>\n",
              "      <td>Highly quotable</td>\n",
              "      <td>1445714996</td>\n",
              "    </tr>\n",
              "    <tr>\n",
              "      <th>2</th>\n",
              "      <td>2</td>\n",
              "      <td>60756</td>\n",
              "      <td>will ferrell</td>\n",
              "      <td>1445714992</td>\n",
              "    </tr>\n",
              "    <tr>\n",
              "      <th>3</th>\n",
              "      <td>2</td>\n",
              "      <td>89774</td>\n",
              "      <td>Boxing story</td>\n",
              "      <td>1445715207</td>\n",
              "    </tr>\n",
              "    <tr>\n",
              "      <th>4</th>\n",
              "      <td>2</td>\n",
              "      <td>89774</td>\n",
              "      <td>MMA</td>\n",
              "      <td>1445715200</td>\n",
              "    </tr>\n",
              "    <tr>\n",
              "      <th>...</th>\n",
              "      <td>...</td>\n",
              "      <td>...</td>\n",
              "      <td>...</td>\n",
              "      <td>...</td>\n",
              "    </tr>\n",
              "    <tr>\n",
              "      <th>3678</th>\n",
              "      <td>606</td>\n",
              "      <td>7382</td>\n",
              "      <td>for katie</td>\n",
              "      <td>1171234019</td>\n",
              "    </tr>\n",
              "    <tr>\n",
              "      <th>3679</th>\n",
              "      <td>606</td>\n",
              "      <td>7936</td>\n",
              "      <td>austere</td>\n",
              "      <td>1173392334</td>\n",
              "    </tr>\n",
              "    <tr>\n",
              "      <th>3680</th>\n",
              "      <td>610</td>\n",
              "      <td>3265</td>\n",
              "      <td>gun fu</td>\n",
              "      <td>1493843984</td>\n",
              "    </tr>\n",
              "    <tr>\n",
              "      <th>3681</th>\n",
              "      <td>610</td>\n",
              "      <td>3265</td>\n",
              "      <td>heroic bloodshed</td>\n",
              "      <td>1493843978</td>\n",
              "    </tr>\n",
              "    <tr>\n",
              "      <th>3682</th>\n",
              "      <td>610</td>\n",
              "      <td>168248</td>\n",
              "      <td>Heroic Bloodshed</td>\n",
              "      <td>1493844270</td>\n",
              "    </tr>\n",
              "  </tbody>\n",
              "</table>\n",
              "<p>3683 rows × 4 columns</p>\n",
              "</div>"
            ],
            "text/plain": [
              "      userId  movieId               tag   timestamp\n",
              "0          2    60756             funny  1445714994\n",
              "1          2    60756   Highly quotable  1445714996\n",
              "2          2    60756      will ferrell  1445714992\n",
              "3          2    89774      Boxing story  1445715207\n",
              "4          2    89774               MMA  1445715200\n",
              "...      ...      ...               ...         ...\n",
              "3678     606     7382         for katie  1171234019\n",
              "3679     606     7936           austere  1173392334\n",
              "3680     610     3265            gun fu  1493843984\n",
              "3681     610     3265  heroic bloodshed  1493843978\n",
              "3682     610   168248  Heroic Bloodshed  1493844270\n",
              "\n",
              "[3683 rows x 4 columns]"
            ]
          },
          "metadata": {
            "tags": []
          },
          "execution_count": 5
        }
      ]
    },
    {
      "cell_type": "markdown",
      "metadata": {
        "id": "NhxKcfMXQqAQ",
        "colab_type": "text"
      },
      "source": [
        "#### Ratings"
      ]
    },
    {
      "cell_type": "code",
      "metadata": {
        "id": "gdoCR3mAQspb",
        "colab_type": "code",
        "outputId": "92775c33-68fd-41a3-d928-dacbc3dc1944",
        "colab": {
          "base_uri": "https://localhost:8080/",
          "height": 419
        }
      },
      "source": [
        "ratings = pd.read_csv(dataset_path + 'ratings.csv')\n",
        "ratings"
      ],
      "execution_count": 0,
      "outputs": [
        {
          "output_type": "execute_result",
          "data": {
            "text/html": [
              "<div>\n",
              "<style scoped>\n",
              "    .dataframe tbody tr th:only-of-type {\n",
              "        vertical-align: middle;\n",
              "    }\n",
              "\n",
              "    .dataframe tbody tr th {\n",
              "        vertical-align: top;\n",
              "    }\n",
              "\n",
              "    .dataframe thead th {\n",
              "        text-align: right;\n",
              "    }\n",
              "</style>\n",
              "<table border=\"1\" class=\"dataframe\">\n",
              "  <thead>\n",
              "    <tr style=\"text-align: right;\">\n",
              "      <th></th>\n",
              "      <th>userId</th>\n",
              "      <th>movieId</th>\n",
              "      <th>rating</th>\n",
              "      <th>timestamp</th>\n",
              "    </tr>\n",
              "  </thead>\n",
              "  <tbody>\n",
              "    <tr>\n",
              "      <th>0</th>\n",
              "      <td>1</td>\n",
              "      <td>1</td>\n",
              "      <td>4.0</td>\n",
              "      <td>964982703</td>\n",
              "    </tr>\n",
              "    <tr>\n",
              "      <th>1</th>\n",
              "      <td>1</td>\n",
              "      <td>3</td>\n",
              "      <td>4.0</td>\n",
              "      <td>964981247</td>\n",
              "    </tr>\n",
              "    <tr>\n",
              "      <th>2</th>\n",
              "      <td>1</td>\n",
              "      <td>6</td>\n",
              "      <td>4.0</td>\n",
              "      <td>964982224</td>\n",
              "    </tr>\n",
              "    <tr>\n",
              "      <th>3</th>\n",
              "      <td>1</td>\n",
              "      <td>47</td>\n",
              "      <td>5.0</td>\n",
              "      <td>964983815</td>\n",
              "    </tr>\n",
              "    <tr>\n",
              "      <th>4</th>\n",
              "      <td>1</td>\n",
              "      <td>50</td>\n",
              "      <td>5.0</td>\n",
              "      <td>964982931</td>\n",
              "    </tr>\n",
              "    <tr>\n",
              "      <th>...</th>\n",
              "      <td>...</td>\n",
              "      <td>...</td>\n",
              "      <td>...</td>\n",
              "      <td>...</td>\n",
              "    </tr>\n",
              "    <tr>\n",
              "      <th>100831</th>\n",
              "      <td>610</td>\n",
              "      <td>166534</td>\n",
              "      <td>4.0</td>\n",
              "      <td>1493848402</td>\n",
              "    </tr>\n",
              "    <tr>\n",
              "      <th>100832</th>\n",
              "      <td>610</td>\n",
              "      <td>168248</td>\n",
              "      <td>5.0</td>\n",
              "      <td>1493850091</td>\n",
              "    </tr>\n",
              "    <tr>\n",
              "      <th>100833</th>\n",
              "      <td>610</td>\n",
              "      <td>168250</td>\n",
              "      <td>5.0</td>\n",
              "      <td>1494273047</td>\n",
              "    </tr>\n",
              "    <tr>\n",
              "      <th>100834</th>\n",
              "      <td>610</td>\n",
              "      <td>168252</td>\n",
              "      <td>5.0</td>\n",
              "      <td>1493846352</td>\n",
              "    </tr>\n",
              "    <tr>\n",
              "      <th>100835</th>\n",
              "      <td>610</td>\n",
              "      <td>170875</td>\n",
              "      <td>3.0</td>\n",
              "      <td>1493846415</td>\n",
              "    </tr>\n",
              "  </tbody>\n",
              "</table>\n",
              "<p>100836 rows × 4 columns</p>\n",
              "</div>"
            ],
            "text/plain": [
              "        userId  movieId  rating   timestamp\n",
              "0            1        1     4.0   964982703\n",
              "1            1        3     4.0   964981247\n",
              "2            1        6     4.0   964982224\n",
              "3            1       47     5.0   964983815\n",
              "4            1       50     5.0   964982931\n",
              "...        ...      ...     ...         ...\n",
              "100831     610   166534     4.0  1493848402\n",
              "100832     610   168248     5.0  1493850091\n",
              "100833     610   168250     5.0  1494273047\n",
              "100834     610   168252     5.0  1493846352\n",
              "100835     610   170875     3.0  1493846415\n",
              "\n",
              "[100836 rows x 4 columns]"
            ]
          },
          "metadata": {
            "tags": []
          },
          "execution_count": 6
        }
      ]
    },
    {
      "cell_type": "markdown",
      "metadata": {
        "id": "pkJjPwyFRPDu",
        "colab_type": "text"
      },
      "source": [
        "## Some data processing examples\n",
        "\n",
        "#### Simple filtering\n",
        "\n",
        "What movie has id 1234 ? "
      ]
    },
    {
      "cell_type": "code",
      "metadata": {
        "id": "pCNe6eZrR5TM",
        "colab_type": "code",
        "outputId": "974deb1b-73af-473e-b376-3cb847865ec1",
        "colab": {
          "base_uri": "https://localhost:8080/",
          "height": 80
        }
      },
      "source": [
        "m1234 = movies[movies.movieId == 1234]\n",
        "m1234\n"
      ],
      "execution_count": 0,
      "outputs": [
        {
          "output_type": "execute_result",
          "data": {
            "text/html": [
              "<div>\n",
              "<style scoped>\n",
              "    .dataframe tbody tr th:only-of-type {\n",
              "        vertical-align: middle;\n",
              "    }\n",
              "\n",
              "    .dataframe tbody tr th {\n",
              "        vertical-align: top;\n",
              "    }\n",
              "\n",
              "    .dataframe thead th {\n",
              "        text-align: right;\n",
              "    }\n",
              "</style>\n",
              "<table border=\"1\" class=\"dataframe\">\n",
              "  <thead>\n",
              "    <tr style=\"text-align: right;\">\n",
              "      <th></th>\n",
              "      <th>movieId</th>\n",
              "      <th>title</th>\n",
              "      <th>genres</th>\n",
              "    </tr>\n",
              "  </thead>\n",
              "  <tbody>\n",
              "    <tr>\n",
              "      <th>934</th>\n",
              "      <td>1234</td>\n",
              "      <td>Sting, The (1973)</td>\n",
              "      <td>Comedy|Crime</td>\n",
              "    </tr>\n",
              "  </tbody>\n",
              "</table>\n",
              "</div>"
            ],
            "text/plain": [
              "     movieId              title        genres\n",
              "934     1234  Sting, The (1973)  Comedy|Crime"
            ]
          },
          "metadata": {
            "tags": []
          },
          "execution_count": 7
        }
      ]
    },
    {
      "cell_type": "markdown",
      "metadata": {
        "id": "LlS3n_KLgrDE",
        "colab_type": "text"
      },
      "source": [
        "What movie has \"Star Wars\" in the title?"
      ]
    },
    {
      "cell_type": "code",
      "metadata": {
        "id": "ikHwhwE-gyH5",
        "colab_type": "code",
        "outputId": "2b1d24f3-6df3-41fe-e1f9-4b61b5e1afa8",
        "colab": {
          "base_uri": "https://localhost:8080/",
          "height": 452
        }
      },
      "source": [
        "star_wars_movies = movies[movies.title.str.contains('Star Wars')]\n",
        "star_wars_movies"
      ],
      "execution_count": 0,
      "outputs": [
        {
          "output_type": "execute_result",
          "data": {
            "text/html": [
              "<div>\n",
              "<style scoped>\n",
              "    .dataframe tbody tr th:only-of-type {\n",
              "        vertical-align: middle;\n",
              "    }\n",
              "\n",
              "    .dataframe tbody tr th {\n",
              "        vertical-align: top;\n",
              "    }\n",
              "\n",
              "    .dataframe thead th {\n",
              "        text-align: right;\n",
              "    }\n",
              "</style>\n",
              "<table border=\"1\" class=\"dataframe\">\n",
              "  <thead>\n",
              "    <tr style=\"text-align: right;\">\n",
              "      <th></th>\n",
              "      <th>movieId</th>\n",
              "      <th>title</th>\n",
              "      <th>genres</th>\n",
              "    </tr>\n",
              "  </thead>\n",
              "  <tbody>\n",
              "    <tr>\n",
              "      <th>224</th>\n",
              "      <td>260</td>\n",
              "      <td>Star Wars: Episode IV - A New Hope (1977)</td>\n",
              "      <td>Action|Adventure|Sci-Fi</td>\n",
              "    </tr>\n",
              "    <tr>\n",
              "      <th>898</th>\n",
              "      <td>1196</td>\n",
              "      <td>Star Wars: Episode V - The Empire Strikes Back...</td>\n",
              "      <td>Action|Adventure|Sci-Fi</td>\n",
              "    </tr>\n",
              "    <tr>\n",
              "      <th>911</th>\n",
              "      <td>1210</td>\n",
              "      <td>Star Wars: Episode VI - Return of the Jedi (1983)</td>\n",
              "      <td>Action|Adventure|Sci-Fi</td>\n",
              "    </tr>\n",
              "    <tr>\n",
              "      <th>1979</th>\n",
              "      <td>2628</td>\n",
              "      <td>Star Wars: Episode I - The Phantom Menace (1999)</td>\n",
              "      <td>Action|Adventure|Sci-Fi</td>\n",
              "    </tr>\n",
              "    <tr>\n",
              "      <th>3832</th>\n",
              "      <td>5378</td>\n",
              "      <td>Star Wars: Episode II - Attack of the Clones (...</td>\n",
              "      <td>Action|Adventure|Sci-Fi|IMAX</td>\n",
              "    </tr>\n",
              "    <tr>\n",
              "      <th>5896</th>\n",
              "      <td>33493</td>\n",
              "      <td>Star Wars: Episode III - Revenge of the Sith (...</td>\n",
              "      <td>Action|Adventure|Sci-Fi</td>\n",
              "    </tr>\n",
              "    <tr>\n",
              "      <th>6823</th>\n",
              "      <td>61160</td>\n",
              "      <td>Star Wars: The Clone Wars (2008)</td>\n",
              "      <td>Action|Adventure|Animation|Sci-Fi</td>\n",
              "    </tr>\n",
              "    <tr>\n",
              "      <th>7367</th>\n",
              "      <td>79006</td>\n",
              "      <td>Empire of Dreams: The Story of the 'Star Wars'...</td>\n",
              "      <td>Documentary</td>\n",
              "    </tr>\n",
              "    <tr>\n",
              "      <th>8683</th>\n",
              "      <td>122886</td>\n",
              "      <td>Star Wars: Episode VII - The Force Awakens (2015)</td>\n",
              "      <td>Action|Adventure|Fantasy|Sci-Fi|IMAX</td>\n",
              "    </tr>\n",
              "    <tr>\n",
              "      <th>8908</th>\n",
              "      <td>135216</td>\n",
              "      <td>The Star Wars Holiday Special (1978)</td>\n",
              "      <td>Adventure|Children|Comedy|Sci-Fi</td>\n",
              "    </tr>\n",
              "    <tr>\n",
              "      <th>9433</th>\n",
              "      <td>166528</td>\n",
              "      <td>Rogue One: A Star Wars Story (2016)</td>\n",
              "      <td>Action|Adventure|Fantasy|Sci-Fi</td>\n",
              "    </tr>\n",
              "    <tr>\n",
              "      <th>9645</th>\n",
              "      <td>179819</td>\n",
              "      <td>Star Wars: The Last Jedi (2017)</td>\n",
              "      <td>Action|Adventure|Fantasy|Sci-Fi</td>\n",
              "    </tr>\n",
              "    <tr>\n",
              "      <th>9710</th>\n",
              "      <td>187595</td>\n",
              "      <td>Solo: A Star Wars Story (2018)</td>\n",
              "      <td>Action|Adventure|Children|Sci-Fi</td>\n",
              "    </tr>\n",
              "  </tbody>\n",
              "</table>\n",
              "</div>"
            ],
            "text/plain": [
              "      movieId  ...                                genres\n",
              "224       260  ...               Action|Adventure|Sci-Fi\n",
              "898      1196  ...               Action|Adventure|Sci-Fi\n",
              "911      1210  ...               Action|Adventure|Sci-Fi\n",
              "1979     2628  ...               Action|Adventure|Sci-Fi\n",
              "3832     5378  ...          Action|Adventure|Sci-Fi|IMAX\n",
              "5896    33493  ...               Action|Adventure|Sci-Fi\n",
              "6823    61160  ...     Action|Adventure|Animation|Sci-Fi\n",
              "7367    79006  ...                           Documentary\n",
              "8683   122886  ...  Action|Adventure|Fantasy|Sci-Fi|IMAX\n",
              "8908   135216  ...      Adventure|Children|Comedy|Sci-Fi\n",
              "9433   166528  ...       Action|Adventure|Fantasy|Sci-Fi\n",
              "9645   179819  ...       Action|Adventure|Fantasy|Sci-Fi\n",
              "9710   187595  ...      Action|Adventure|Children|Sci-Fi\n",
              "\n",
              "[13 rows x 3 columns]"
            ]
          },
          "metadata": {
            "tags": []
          },
          "execution_count": 8
        }
      ]
    },
    {
      "cell_type": "markdown",
      "metadata": {
        "id": "VM3J-worYyzd",
        "colab_type": "text"
      },
      "source": [
        "### Global rating rata\n"
      ]
    },
    {
      "cell_type": "markdown",
      "metadata": {
        "id": "dcd8gr1shHYL",
        "colab_type": "text"
      },
      "source": [
        "Let's now calculate a few stats "
      ]
    },
    {
      "cell_type": "code",
      "metadata": {
        "id": "MGT8KE7rTIRL",
        "colab_type": "code",
        "outputId": "6cd5d311-4440-47cc-9705-ebadebeaddfb",
        "colab": {
          "base_uri": "https://localhost:8080/",
          "height": 173
        }
      },
      "source": [
        "ratings[['rating']].agg(['min','max','mean','std'])"
      ],
      "execution_count": 0,
      "outputs": [
        {
          "output_type": "execute_result",
          "data": {
            "text/html": [
              "<div>\n",
              "<style scoped>\n",
              "    .dataframe tbody tr th:only-of-type {\n",
              "        vertical-align: middle;\n",
              "    }\n",
              "\n",
              "    .dataframe tbody tr th {\n",
              "        vertical-align: top;\n",
              "    }\n",
              "\n",
              "    .dataframe thead th {\n",
              "        text-align: right;\n",
              "    }\n",
              "</style>\n",
              "<table border=\"1\" class=\"dataframe\">\n",
              "  <thead>\n",
              "    <tr style=\"text-align: right;\">\n",
              "      <th></th>\n",
              "      <th>rating</th>\n",
              "    </tr>\n",
              "  </thead>\n",
              "  <tbody>\n",
              "    <tr>\n",
              "      <th>min</th>\n",
              "      <td>0.500000</td>\n",
              "    </tr>\n",
              "    <tr>\n",
              "      <th>max</th>\n",
              "      <td>5.000000</td>\n",
              "    </tr>\n",
              "    <tr>\n",
              "      <th>mean</th>\n",
              "      <td>3.501557</td>\n",
              "    </tr>\n",
              "    <tr>\n",
              "      <th>std</th>\n",
              "      <td>1.042529</td>\n",
              "    </tr>\n",
              "  </tbody>\n",
              "</table>\n",
              "</div>"
            ],
            "text/plain": [
              "        rating\n",
              "min   0.500000\n",
              "max   5.000000\n",
              "mean  3.501557\n",
              "std   1.042529"
            ]
          },
          "metadata": {
            "tags": []
          },
          "execution_count": 9
        }
      ]
    },
    {
      "cell_type": "markdown",
      "metadata": {
        "id": "OvBVJPLKh_A2",
        "colab_type": "text"
      },
      "source": [
        "Let us plot the global rating distribution using a [Seaborn](https://seaborn.pydata.org/) plot."
      ]
    },
    {
      "cell_type": "code",
      "metadata": {
        "id": "ZBPSYJigZlh3",
        "colab_type": "code",
        "outputId": "18aaaaa6-5f02-442f-a8bb-d50a953a7422",
        "colab": {
          "base_uri": "https://localhost:8080/",
          "height": 279
        }
      },
      "source": [
        "import seaborn as sb\n",
        "\n",
        "axes = sb.countplot(data=ratings, x='rating')"
      ],
      "execution_count": 0,
      "outputs": [
        {
          "output_type": "display_data",
          "data": {
            "image/png": "[encoded data removed]",
            "text/plain": [
              "<Figure size 432x288 with 1 Axes>"
            ]
          },
          "metadata": {
            "tags": []
          }
        }
      ]
    },
    {
      "cell_type": "markdown",
      "metadata": {
        "id": "zUowxdgkiCon",
        "colab_type": "text"
      },
      "source": [
        "Let us  derive the same numbers that are shown in the plot ourselves."
      ]
    },
    {
      "cell_type": "code",
      "metadata": {
        "id": "0PMJbmlwiRqb",
        "colab_type": "code",
        "outputId": "3a4b92b1-c862-48bd-95a1-a54167bbcb8c",
        "colab": {
          "base_uri": "https://localhost:8080/",
          "height": 390
        }
      },
      "source": [
        "counts = ratings.groupby('rating').rating.agg(['count'])\n",
        "counts"
      ],
      "execution_count": 0,
      "outputs": [
        {
          "output_type": "execute_result",
          "data": {
            "text/html": [
              "<div>\n",
              "<style scoped>\n",
              "    .dataframe tbody tr th:only-of-type {\n",
              "        vertical-align: middle;\n",
              "    }\n",
              "\n",
              "    .dataframe tbody tr th {\n",
              "        vertical-align: top;\n",
              "    }\n",
              "\n",
              "    .dataframe thead th {\n",
              "        text-align: right;\n",
              "    }\n",
              "</style>\n",
              "<table border=\"1\" class=\"dataframe\">\n",
              "  <thead>\n",
              "    <tr style=\"text-align: right;\">\n",
              "      <th></th>\n",
              "      <th>count</th>\n",
              "    </tr>\n",
              "    <tr>\n",
              "      <th>rating</th>\n",
              "      <th></th>\n",
              "    </tr>\n",
              "  </thead>\n",
              "  <tbody>\n",
              "    <tr>\n",
              "      <th>0.5</th>\n",
              "      <td>1370</td>\n",
              "    </tr>\n",
              "    <tr>\n",
              "      <th>1.0</th>\n",
              "      <td>2811</td>\n",
              "    </tr>\n",
              "    <tr>\n",
              "      <th>1.5</th>\n",
              "      <td>1791</td>\n",
              "    </tr>\n",
              "    <tr>\n",
              "      <th>2.0</th>\n",
              "      <td>7551</td>\n",
              "    </tr>\n",
              "    <tr>\n",
              "      <th>2.5</th>\n",
              "      <td>5550</td>\n",
              "    </tr>\n",
              "    <tr>\n",
              "      <th>3.0</th>\n",
              "      <td>20047</td>\n",
              "    </tr>\n",
              "    <tr>\n",
              "      <th>3.5</th>\n",
              "      <td>13136</td>\n",
              "    </tr>\n",
              "    <tr>\n",
              "      <th>4.0</th>\n",
              "      <td>26818</td>\n",
              "    </tr>\n",
              "    <tr>\n",
              "      <th>4.5</th>\n",
              "      <td>8551</td>\n",
              "    </tr>\n",
              "    <tr>\n",
              "      <th>5.0</th>\n",
              "      <td>13211</td>\n",
              "    </tr>\n",
              "  </tbody>\n",
              "</table>\n",
              "</div>"
            ],
            "text/plain": [
              "        count\n",
              "rating       \n",
              "0.5      1370\n",
              "1.0      2811\n",
              "1.5      1791\n",
              "2.0      7551\n",
              "2.5      5550\n",
              "3.0     20047\n",
              "3.5     13136\n",
              "4.0     26818\n",
              "4.5      8551\n",
              "5.0     13211"
            ]
          },
          "metadata": {
            "tags": []
          },
          "execution_count": 11
        }
      ]
    },
    {
      "cell_type": "markdown",
      "metadata": {
        "id": "xhA_WlmOB79I",
        "colab_type": "text"
      },
      "source": [
        "### Order movies by average rating\n",
        "\n",
        "First derive the average ratings."
      ]
    },
    {
      "cell_type": "code",
      "metadata": {
        "id": "xT8HJlbeB_1n",
        "colab_type": "code",
        "outputId": "f2576bdc-224c-4f7a-c7c1-13c939a3dc0a",
        "colab": {
          "base_uri": "https://localhost:8080/",
          "height": 450
        }
      },
      "source": [
        "avg_ratings_by_movie = ratings.groupby('movieId').rating.agg(['count','mean'])\n",
        "avg_ratings_by_movie"
      ],
      "execution_count": 0,
      "outputs": [
        {
          "output_type": "execute_result",
          "data": {
            "text/html": [
              "<div>\n",
              "<style scoped>\n",
              "    .dataframe tbody tr th:only-of-type {\n",
              "        vertical-align: middle;\n",
              "    }\n",
              "\n",
              "    .dataframe tbody tr th {\n",
              "        vertical-align: top;\n",
              "    }\n",
              "\n",
              "    .dataframe thead th {\n",
              "        text-align: right;\n",
              "    }\n",
              "</style>\n",
              "<table border=\"1\" class=\"dataframe\">\n",
              "  <thead>\n",
              "    <tr style=\"text-align: right;\">\n",
              "      <th></th>\n",
              "      <th>count</th>\n",
              "      <th>mean</th>\n",
              "    </tr>\n",
              "    <tr>\n",
              "      <th>movieId</th>\n",
              "      <th></th>\n",
              "      <th></th>\n",
              "    </tr>\n",
              "  </thead>\n",
              "  <tbody>\n",
              "    <tr>\n",
              "      <th>1</th>\n",
              "      <td>215</td>\n",
              "      <td>3.920930</td>\n",
              "    </tr>\n",
              "    <tr>\n",
              "      <th>2</th>\n",
              "      <td>110</td>\n",
              "      <td>3.431818</td>\n",
              "    </tr>\n",
              "    <tr>\n",
              "      <th>3</th>\n",
              "      <td>52</td>\n",
              "      <td>3.259615</td>\n",
              "    </tr>\n",
              "    <tr>\n",
              "      <th>4</th>\n",
              "      <td>7</td>\n",
              "      <td>2.357143</td>\n",
              "    </tr>\n",
              "    <tr>\n",
              "      <th>5</th>\n",
              "      <td>49</td>\n",
              "      <td>3.071429</td>\n",
              "    </tr>\n",
              "    <tr>\n",
              "      <th>...</th>\n",
              "      <td>...</td>\n",
              "      <td>...</td>\n",
              "    </tr>\n",
              "    <tr>\n",
              "      <th>193581</th>\n",
              "      <td>1</td>\n",
              "      <td>4.000000</td>\n",
              "    </tr>\n",
              "    <tr>\n",
              "      <th>193583</th>\n",
              "      <td>1</td>\n",
              "      <td>3.500000</td>\n",
              "    </tr>\n",
              "    <tr>\n",
              "      <th>193585</th>\n",
              "      <td>1</td>\n",
              "      <td>3.500000</td>\n",
              "    </tr>\n",
              "    <tr>\n",
              "      <th>193587</th>\n",
              "      <td>1</td>\n",
              "      <td>3.500000</td>\n",
              "    </tr>\n",
              "    <tr>\n",
              "      <th>193609</th>\n",
              "      <td>1</td>\n",
              "      <td>4.000000</td>\n",
              "    </tr>\n",
              "  </tbody>\n",
              "</table>\n",
              "<p>9724 rows × 2 columns</p>\n",
              "</div>"
            ],
            "text/plain": [
              "         count      mean\n",
              "movieId                 \n",
              "1          215  3.920930\n",
              "2          110  3.431818\n",
              "3           52  3.259615\n",
              "4            7  2.357143\n",
              "5           49  3.071429\n",
              "...        ...       ...\n",
              "193581       1  4.000000\n",
              "193583       1  3.500000\n",
              "193585       1  3.500000\n",
              "193587       1  3.500000\n",
              "193609       1  4.000000\n",
              "\n",
              "[9724 rows x 2 columns]"
            ]
          },
          "metadata": {
            "tags": []
          },
          "execution_count": 12
        }
      ]
    },
    {
      "cell_type": "markdown",
      "metadata": {
        "id": "4FL5MkJ7CzLe",
        "colab_type": "text"
      },
      "source": [
        "The information is more human-readable if we join in the movie information and sort the data by average rating and movie title."
      ]
    },
    {
      "cell_type": "code",
      "metadata": {
        "id": "IECR0laAC4Qa",
        "colab_type": "code",
        "outputId": "05bfe5d0-b4fb-4792-dfb1-5ebd990fbe18",
        "colab": {
          "base_uri": "https://localhost:8080/",
          "height": 450
        }
      },
      "source": [
        "join_data = avg_ratings_by_movie.join(movies.set_index('movieId'))\n",
        "sorted_data = join_data.sort_values(by=['mean','title'], ascending=[False,True])\n",
        "sorted_data"
      ],
      "execution_count": 0,
      "outputs": [
        {
          "output_type": "execute_result",
          "data": {
            "text/html": [
              "<div>\n",
              "<style scoped>\n",
              "    .dataframe tbody tr th:only-of-type {\n",
              "        vertical-align: middle;\n",
              "    }\n",
              "\n",
              "    .dataframe tbody tr th {\n",
              "        vertical-align: top;\n",
              "    }\n",
              "\n",
              "    .dataframe thead th {\n",
              "        text-align: right;\n",
              "    }\n",
              "</style>\n",
              "<table border=\"1\" class=\"dataframe\">\n",
              "  <thead>\n",
              "    <tr style=\"text-align: right;\">\n",
              "      <th></th>\n",
              "      <th>count</th>\n",
              "      <th>mean</th>\n",
              "      <th>title</th>\n",
              "      <th>genres</th>\n",
              "    </tr>\n",
              "    <tr>\n",
              "      <th>movieId</th>\n",
              "      <th></th>\n",
              "      <th></th>\n",
              "      <th></th>\n",
              "      <th></th>\n",
              "    </tr>\n",
              "  </thead>\n",
              "  <tbody>\n",
              "    <tr>\n",
              "      <th>27751</th>\n",
              "      <td>1</td>\n",
              "      <td>5.0</td>\n",
              "      <td>'Salem's Lot (2004)</td>\n",
              "      <td>Drama|Horror|Mystery|Thriller</td>\n",
              "    </tr>\n",
              "    <tr>\n",
              "      <th>77846</th>\n",
              "      <td>1</td>\n",
              "      <td>5.0</td>\n",
              "      <td>12 Angry Men (1997)</td>\n",
              "      <td>Crime|Drama</td>\n",
              "    </tr>\n",
              "    <tr>\n",
              "      <th>141816</th>\n",
              "      <td>1</td>\n",
              "      <td>5.0</td>\n",
              "      <td>12 Chairs (1976)</td>\n",
              "      <td>Adventure|Comedy</td>\n",
              "    </tr>\n",
              "    <tr>\n",
              "      <th>5468</th>\n",
              "      <td>1</td>\n",
              "      <td>5.0</td>\n",
              "      <td>20 Million Miles to Earth (1957)</td>\n",
              "      <td>Sci-Fi</td>\n",
              "    </tr>\n",
              "    <tr>\n",
              "      <th>27373</th>\n",
              "      <td>1</td>\n",
              "      <td>5.0</td>\n",
              "      <td>61* (2001)</td>\n",
              "      <td>Drama</td>\n",
              "    </tr>\n",
              "    <tr>\n",
              "      <th>...</th>\n",
              "      <td>...</td>\n",
              "      <td>...</td>\n",
              "      <td>...</td>\n",
              "      <td>...</td>\n",
              "    </tr>\n",
              "    <tr>\n",
              "      <th>8137</th>\n",
              "      <td>1</td>\n",
              "      <td>0.5</td>\n",
              "      <td>Wasp Woman, The (1959)</td>\n",
              "      <td>Horror|Sci-Fi</td>\n",
              "    </tr>\n",
              "    <tr>\n",
              "      <th>8236</th>\n",
              "      <td>1</td>\n",
              "      <td>0.5</td>\n",
              "      <td>While the City Sleeps (1956)</td>\n",
              "      <td>Drama|Film-Noir</td>\n",
              "    </tr>\n",
              "    <tr>\n",
              "      <th>157172</th>\n",
              "      <td>1</td>\n",
              "      <td>0.5</td>\n",
              "      <td>Wizards of the Lost Kingdom II (1989)</td>\n",
              "      <td>Action|Fantasy</td>\n",
              "    </tr>\n",
              "    <tr>\n",
              "      <th>102025</th>\n",
              "      <td>1</td>\n",
              "      <td>0.5</td>\n",
              "      <td>Yongary: Monster from the Deep (1967)</td>\n",
              "      <td>Children|Horror|Sci-Fi</td>\n",
              "    </tr>\n",
              "    <tr>\n",
              "      <th>60363</th>\n",
              "      <td>1</td>\n",
              "      <td>0.5</td>\n",
              "      <td>Zombie Strippers! (2008)</td>\n",
              "      <td>Comedy|Horror</td>\n",
              "    </tr>\n",
              "  </tbody>\n",
              "</table>\n",
              "<p>9724 rows × 4 columns</p>\n",
              "</div>"
            ],
            "text/plain": [
              "         count  ...                         genres\n",
              "movieId         ...                               \n",
              "27751        1  ...  Drama|Horror|Mystery|Thriller\n",
              "77846        1  ...                    Crime|Drama\n",
              "141816       1  ...               Adventure|Comedy\n",
              "5468         1  ...                         Sci-Fi\n",
              "27373        1  ...                          Drama\n",
              "...        ...  ...                            ...\n",
              "8137         1  ...                  Horror|Sci-Fi\n",
              "8236         1  ...                Drama|Film-Noir\n",
              "157172       1  ...                 Action|Fantasy\n",
              "102025       1  ...         Children|Horror|Sci-Fi\n",
              "60363        1  ...                  Comedy|Horror\n",
              "\n",
              "[9724 rows x 4 columns]"
            ]
          },
          "metadata": {
            "tags": []
          },
          "execution_count": 13
        }
      ]
    },
    {
      "cell_type": "markdown",
      "metadata": {
        "id": "aI8I2muvDu-j",
        "colab_type": "text"
      },
      "source": [
        "Suppose we now want to filter out films with less than 5 ratings and show the top 20 of those movies."
      ]
    },
    {
      "cell_type": "code",
      "metadata": {
        "id": "UvPQ8zlYD1Wh",
        "colab_type": "code",
        "colab": {}
      },
      "source": [
        "sorted_data.query('count >= 5').head(20)"
      ],
      "execution_count": 0,
      "outputs": []
    },
    {
      "cell_type": "markdown",
      "metadata": {
        "id": "JlhFMj7p_0Qd",
        "colab_type": "text"
      },
      "source": [
        "## Exercises\n",
        "\n",
        "\n",
        "\n",
        "1.   Analyse  the `tags` data frame. What are the  10 most used tags?\n",
        "2.   For the most used tag identify the movies that have been tagged with it. Display the movie title information.\n",
        "3.   What are the 10 movies that have been tagged more often? \n",
        "4.    At the other extreme, are there movies with no tags?\n",
        "\n",
        "\n"
      ]
    },
    {
      "cell_type": "code",
      "metadata": {
        "id": "RtOnSm_V4BPP",
        "colab_type": "code",
        "outputId": "e14fa14a-4e31-48c3-ffe7-e85a97bd1888",
        "colab": {
          "base_uri": "https://localhost:8080/",
          "height": 204
        }
      },
      "source": [
        "# Exercício 1 : Analyse the tags data frame. What are the 10 most used tags?\n",
        "tags = pd.read_csv(dataset_path + 'tags.csv') \n",
        "top_10_tags = tags.tag.value_counts()\n",
        "top_10_tags.head(10)"
      ],
      "execution_count": 0,
      "outputs": [
        {
          "output_type": "execute_result",
          "data": {
            "text/plain": [
              "In Netflix queue     131\n",
              "atmospheric           36\n",
              "superhero             24\n",
              "thought-provoking     24\n",
              "surreal               23\n",
              "funny                 23\n",
              "Disney                23\n",
              "religion              22\n",
              "sci-fi                21\n",
              "psychology            21\n",
              "Name: tag, dtype: int64"
            ]
          },
          "metadata": {
            "tags": []
          },
          "execution_count": 43
        }
      ]
    },
    {
      "cell_type": "code",
      "metadata": {
        "id": "eF7-Qlla7kkb",
        "colab_type": "code",
        "colab": {}
      },
      "source": [
        "# Exercício 2: For the most used tag identify the movies that have been tagged with it. Display the movie title information.\n",
        "cont = 0\n",
        "nomes = []\n",
        "for i in tags.tag:\n",
        "  if i == 'In Netflix queue':\n",
        "    nomes.append(i)\n",
        "    cont = cont+1\n",
        "print('Número de filmes:',cont) \n",
        "print('Nomes: ', nomes) \n",
        "# Existe vários filmes com o mesmo movieID no arquivo tags"
      ],
      "execution_count": 0,
      "outputs": []
    }
  ]
}