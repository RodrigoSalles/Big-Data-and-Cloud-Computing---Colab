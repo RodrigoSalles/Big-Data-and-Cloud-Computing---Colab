{
  "nbformat": 4,
  "nbformat_minor": 0,
  "metadata": {
    "colab": {
      "name": "Zipf's law",
      "provenance": [],
      "collapsed_sections": [],
      "toc_visible": true,
      "include_colab_link": true
    },
    "kernelspec": {
      "name": "python3",
      "display_name": "Python 3"
    }
  },
  "cells": [
    {
      "cell_type": "markdown",
      "metadata": {
        "id": "view-in-github",
        "colab_type": "text"
      },
      "source": [
        "<a href=\"https://colab.research.google.com/github/RodrigoSalles/Big-Data-and-Cloud-Computing---Colab/blob/master/Zipf's_law.ipynb\" target=\"_parent\"><img src=\"https://colab.research.google.com/assets/colab-badge.svg\" alt=\"Open In Colab\"/></a>"
      ]
    },
    {
      "cell_type": "markdown",
      "metadata": {
        "id": "UeSeTSn_6zjq",
        "colab_type": "text"
      },
      "source": [
        "# Example data processing - Zipf's law\n",
        "\n",
        "**[Big Data and Cloud Computing](https://www.dcc.fc.up.pt/~edrdo/aulas/bdcc), Eduardo R. B. Marques, DCC/FCUP**\n"
      ]
    },
    {
      "cell_type": "markdown",
      "metadata": {
        "id": "n3T3Wxw3vaJy",
        "colab_type": "text"
      },
      "source": [
        "## Zipf's law\n",
        "\n",
        "In a corpus (e.g., list of documents) of a language (e.g., Portuguese), the frequency of a word tends to be inversely proportional to its rank in the global list of words sorted by decreasing frequency. \n",
        "\n",
        "This trait is captured by [Zipf's law](https://en.wikipedia.org/wiki/Zipf%27s_law), formulated by American linguist [George Kingsley Zipf](https://en.wikipedia.org/wiki/George_Kingsley_Zipf). \n",
        "\n",
        "Let $n$ be the number words in a corpus. For a fixed exponent $s > 0$ (usually close to $1$), Zipf's law estimates that the frequency of the $k$-th most frequent word is approximated by\n",
        "\n",
        "$$\n",
        "f(k) = \\frac{(1/k^s)}{ \\sum_{i=1}^n (1 / i^s)}\n",
        "$$\n",
        "\n",
        "In this notebook we analyze if the English language conforms to Zipf's law, taking as corpus the \"[Complete Works of William Shakespeare](https://www.gutenberg.org/ebooks/100)\", available from the [Gutenberg project](https://www.gutenberg.org/).\n"
      ]
    },
    {
      "cell_type": "markdown",
      "metadata": {
        "id": "h_0MbmEwvfL7",
        "colab_type": "text"
      },
      "source": [
        "## Getting the data"
      ]
    },
    {
      "cell_type": "code",
      "metadata": {
        "id": "Ws_6S81Cvoxm",
        "colab_type": "code",
        "colab": {
          "base_uri": "https://localhost:8080/",
          "height": 255
        },
        "outputId": "01d200c5-48db-453f-f6ef-ae9e8ea2ad18"
      },
      "source": [
        "root = '/tmp'\n",
        "data_file = root + '/shakespeare.txt'\n",
        "!test -f $root/shakespeare.txt || curl https://www.gutenberg.org/files/100/100-0.txt -o $data_file\n",
        "!ls -l $data_file\n",
        "!head -10 $data_file"
      ],
      "execution_count": 1,
      "outputs": [
        {
          "output_type": "stream",
          "text": [
            "  % Total    % Received % Xferd  Average Speed   Time    Time     Time  Current\n",
            "                                 Dload  Upload   Total   Spent    Left  Speed\n",
            "100 5641k  100 5641k    0     0   595k      0  0:00:09  0:00:09 --:--:-- 1082k\n",
            "-rw-r--r-- 1 root root 5777367 Feb 25 12:18 /tmp/shakespeare.txt\n",
            "﻿\n",
            "Project Gutenberg’s The Complete Works of William Shakespeare, by William\n",
            "Shakespeare\n",
            "\n",
            "This eBook is for the use of anyone anywhere in the United States and\n",
            "most other parts of the world at no cost and with almost no restrictions\n",
            "whatsoever.  You may copy it, give it away or re-use it under the terms\n",
            "of the Project Gutenberg License included with this eBook or online at\n",
            "www.gutenberg.org.  If you are not located in the United States, you’ll\n",
            "have to check the laws of the country where you are located before using\n"
          ],
          "name": "stdout"
        }
      ]
    },
    {
      "cell_type": "markdown",
      "metadata": {
        "id": "t9xcprgExBAO",
        "colab_type": "text"
      },
      "source": [
        "## Calculating word counts"
      ]
    },
    {
      "cell_type": "code",
      "metadata": {
        "id": "kcIRMZrCxEXQ",
        "colab_type": "code",
        "colab": {
          "base_uri": "https://localhost:8080/",
          "height": 204
        },
        "outputId": "ace92279-6d53-480a-88dc-b4e566422e42"
      },
      "source": [
        "def word_counts(file):\n",
        "  import re\n",
        "  with open(file,'r') as f:\n",
        "    frequency = {}\n",
        "    data = f.readlines()\n",
        "    for line in data:\n",
        "      # print(line)\n",
        "      line = re.sub('[ 0-9\\\"\\‘\\*\\.\\_\\+\\&\\/\\%\\-\\$\\#\\'\\)\\(\\[\\[\\],.!?;:\\t\\n\"]+', ' ', line.strip()).upper()\n",
        "      for word in line.split():\n",
        "        # print('W '+ word)\n",
        "        count = frequency.get(word, 0)\n",
        "        frequency[word] = count + 1\n",
        "    return frequency\n",
        "\n",
        "wf = word_counts(data_file)\n",
        "\n",
        "n = len(wf)\n",
        "\n",
        "sorted_wf = sorted(wf.items(),key=lambda item: item[1],reverse=True)\n",
        "\n",
        "print(\"Top 10 words:\")\n",
        "for i, v in enumerate(sorted_wf[:10]):\n",
        "  print('%d: \"%s\" - %d' % (i+1, v[0], v[1]))\n"
      ],
      "execution_count": 5,
      "outputs": [
        {
          "output_type": "stream",
          "text": [
            "Top 10 words:\n",
            "1: \"THE\" - 30177\n",
            "2: \"AND\" - 28424\n",
            "3: \"I\" - 22548\n",
            "4: \"TO\" - 21233\n",
            "5: \"OF\" - 18822\n",
            "6: \"A\" - 16249\n",
            "7: \"YOU\" - 14536\n",
            "8: \"MY\" - 13179\n",
            "9: \"IN\" - 12272\n",
            "10: \"THAT\" - 11979\n"
          ],
          "name": "stdout"
        }
      ]
    },
    {
      "cell_type": "markdown",
      "metadata": {
        "id": "7IECutnCf9_R",
        "colab_type": "text"
      },
      "source": [
        "## Calculate Zipf's law estimate\n",
        "\n",
        "\n",
        "\n"
      ]
    },
    {
      "cell_type": "code",
      "metadata": {
        "id": "xbUf4M45R6Ug",
        "colab_type": "code",
        "colab": {}
      },
      "source": [
        "import numpy as npb\n",
        "import pandas as pd\n",
        "# Calculate the Zipf values for a given frequency array (sorted in decreasing order)\n",
        "# and exponent.\n",
        "\n",
        "def zipf(n, s):\n",
        "   rank = np.arange(1, n+1)\n",
        "   zipf = (1/rank**s)/(np.sum(1/(rank**s)))\n",
        "   return zipf\n",
        "\n",
        "# Words\n",
        "words = [v[0] for v in sorted_wf]\n",
        "\n",
        "# Counts in a numpy array\n",
        "counts = np.array([v[1] for v in sorted_wf])\n",
        "\n",
        "# Total number of words\n",
        "N = np.sum(counts)\n",
        "\n",
        "# Unique words\n",
        "n = len(counts)\n",
        "\n",
        "# Frequencies\n",
        "freq = counts / N\n",
        "\n",
        "# Exponent\n",
        "s = 1\n",
        "\n",
        "# Get zipf estimate\n",
        "zipf = zipf(n,s)\n",
        "\n"
      ],
      "execution_count": 0,
      "outputs": []
    },
    {
      "cell_type": "markdown",
      "metadata": {
        "id": "V69A7en1jChM",
        "colab_type": "text"
      },
      "source": [
        "## Comparing Zipf's estimate with the actual data"
      ]
    },
    {
      "cell_type": "code",
      "metadata": {
        "id": "-gsKZCmMjJLu",
        "colab_type": "code",
        "colab": {
          "base_uri": "https://localhost:8080/",
          "height": 669
        },
        "outputId": "14cd8bbb-69c0-4093-d225-384a236f6622"
      },
      "source": [
        "# Organize data as a panda data frame\n",
        "data = pd.DataFrame(data={\n",
        "     'rank': np.arange(1,n+1),\n",
        "     'word': words, \n",
        "     'freq': freq, \n",
        "     'zipf': zipf,\n",
        "     'count': counts,\n",
        "     'zipf_count_estimate': zipf * N\n",
        "})\n",
        "data.head(20)"
      ],
      "execution_count": 7,
      "outputs": [
        {
          "output_type": "execute_result",
          "data": {
            "text/html": [
              "<div>\n",
              "<style scoped>\n",
              "    .dataframe tbody tr th:only-of-type {\n",
              "        vertical-align: middle;\n",
              "    }\n",
              "\n",
              "    .dataframe tbody tr th {\n",
              "        vertical-align: top;\n",
              "    }\n",
              "\n",
              "    .dataframe thead th {\n",
              "        text-align: right;\n",
              "    }\n",
              "</style>\n",
              "<table border=\"1\" class=\"dataframe\">\n",
              "  <thead>\n",
              "    <tr style=\"text-align: right;\">\n",
              "      <th></th>\n",
              "      <th>rank</th>\n",
              "      <th>word</th>\n",
              "      <th>freq</th>\n",
              "      <th>zipf</th>\n",
              "      <th>count</th>\n",
              "      <th>zipf_count_estimate</th>\n",
              "    </tr>\n",
              "  </thead>\n",
              "  <tbody>\n",
              "    <tr>\n",
              "      <th>0</th>\n",
              "      <td>1</td>\n",
              "      <td>THE</td>\n",
              "      <td>0.030833</td>\n",
              "      <td>0.092087</td>\n",
              "      <td>30177</td>\n",
              "      <td>90128.889469</td>\n",
              "    </tr>\n",
              "    <tr>\n",
              "      <th>1</th>\n",
              "      <td>2</td>\n",
              "      <td>AND</td>\n",
              "      <td>0.029042</td>\n",
              "      <td>0.046044</td>\n",
              "      <td>28424</td>\n",
              "      <td>45064.444734</td>\n",
              "    </tr>\n",
              "    <tr>\n",
              "      <th>2</th>\n",
              "      <td>3</td>\n",
              "      <td>I</td>\n",
              "      <td>0.023038</td>\n",
              "      <td>0.030696</td>\n",
              "      <td>22548</td>\n",
              "      <td>30042.963156</td>\n",
              "    </tr>\n",
              "    <tr>\n",
              "      <th>3</th>\n",
              "      <td>4</td>\n",
              "      <td>TO</td>\n",
              "      <td>0.021694</td>\n",
              "      <td>0.023022</td>\n",
              "      <td>21233</td>\n",
              "      <td>22532.222367</td>\n",
              "    </tr>\n",
              "    <tr>\n",
              "      <th>4</th>\n",
              "      <td>5</td>\n",
              "      <td>OF</td>\n",
              "      <td>0.019231</td>\n",
              "      <td>0.018417</td>\n",
              "      <td>18822</td>\n",
              "      <td>18025.777894</td>\n",
              "    </tr>\n",
              "    <tr>\n",
              "      <th>5</th>\n",
              "      <td>6</td>\n",
              "      <td>A</td>\n",
              "      <td>0.016602</td>\n",
              "      <td>0.015348</td>\n",
              "      <td>16249</td>\n",
              "      <td>15021.481578</td>\n",
              "    </tr>\n",
              "    <tr>\n",
              "      <th>6</th>\n",
              "      <td>7</td>\n",
              "      <td>YOU</td>\n",
              "      <td>0.014852</td>\n",
              "      <td>0.013155</td>\n",
              "      <td>14536</td>\n",
              "      <td>12875.555638</td>\n",
              "    </tr>\n",
              "    <tr>\n",
              "      <th>7</th>\n",
              "      <td>8</td>\n",
              "      <td>MY</td>\n",
              "      <td>0.013465</td>\n",
              "      <td>0.011511</td>\n",
              "      <td>13179</td>\n",
              "      <td>11266.111184</td>\n",
              "    </tr>\n",
              "    <tr>\n",
              "      <th>8</th>\n",
              "      <td>9</td>\n",
              "      <td>IN</td>\n",
              "      <td>0.012539</td>\n",
              "      <td>0.010232</td>\n",
              "      <td>12272</td>\n",
              "      <td>10014.321052</td>\n",
              "    </tr>\n",
              "    <tr>\n",
              "      <th>9</th>\n",
              "      <td>10</td>\n",
              "      <td>THAT</td>\n",
              "      <td>0.012239</td>\n",
              "      <td>0.009209</td>\n",
              "      <td>11979</td>\n",
              "      <td>9012.888947</td>\n",
              "    </tr>\n",
              "    <tr>\n",
              "      <th>10</th>\n",
              "      <td>11</td>\n",
              "      <td>IS</td>\n",
              "      <td>0.009990</td>\n",
              "      <td>0.008372</td>\n",
              "      <td>9778</td>\n",
              "      <td>8193.535406</td>\n",
              "    </tr>\n",
              "    <tr>\n",
              "      <th>11</th>\n",
              "      <td>12</td>\n",
              "      <td>NOT</td>\n",
              "      <td>0.009272</td>\n",
              "      <td>0.007674</td>\n",
              "      <td>9075</td>\n",
              "      <td>7510.740789</td>\n",
              "    </tr>\n",
              "    <tr>\n",
              "      <th>12</th>\n",
              "      <td>13</td>\n",
              "      <td>WITH</td>\n",
              "      <td>0.008717</td>\n",
              "      <td>0.007084</td>\n",
              "      <td>8532</td>\n",
              "      <td>6932.991498</td>\n",
              "    </tr>\n",
              "    <tr>\n",
              "      <th>13</th>\n",
              "      <td>14</td>\n",
              "      <td>ME</td>\n",
              "      <td>0.008454</td>\n",
              "      <td>0.006578</td>\n",
              "      <td>8274</td>\n",
              "      <td>6437.777819</td>\n",
              "    </tr>\n",
              "    <tr>\n",
              "      <th>14</th>\n",
              "      <td>15</td>\n",
              "      <td>FOR</td>\n",
              "      <td>0.008428</td>\n",
              "      <td>0.006139</td>\n",
              "      <td>8249</td>\n",
              "      <td>6008.592631</td>\n",
              "    </tr>\n",
              "    <tr>\n",
              "      <th>15</th>\n",
              "      <td>16</td>\n",
              "      <td>IT</td>\n",
              "      <td>0.008394</td>\n",
              "      <td>0.005755</td>\n",
              "      <td>8215</td>\n",
              "      <td>5633.055592</td>\n",
              "    </tr>\n",
              "    <tr>\n",
              "      <th>16</th>\n",
              "      <td>17</td>\n",
              "      <td>HIS</td>\n",
              "      <td>0.007746</td>\n",
              "      <td>0.005417</td>\n",
              "      <td>7581</td>\n",
              "      <td>5301.699381</td>\n",
              "    </tr>\n",
              "    <tr>\n",
              "      <th>17</th>\n",
              "      <td>18</td>\n",
              "      <td>BE</td>\n",
              "      <td>0.007545</td>\n",
              "      <td>0.005116</td>\n",
              "      <td>7385</td>\n",
              "      <td>5007.160526</td>\n",
              "    </tr>\n",
              "    <tr>\n",
              "      <th>18</th>\n",
              "      <td>19</td>\n",
              "      <td>THIS</td>\n",
              "      <td>0.007329</td>\n",
              "      <td>0.004847</td>\n",
              "      <td>7173</td>\n",
              "      <td>4743.625762</td>\n",
              "    </tr>\n",
              "    <tr>\n",
              "      <th>19</th>\n",
              "      <td>20</td>\n",
              "      <td>YOUR</td>\n",
              "      <td>0.007230</td>\n",
              "      <td>0.004604</td>\n",
              "      <td>7076</td>\n",
              "      <td>4506.444473</td>\n",
              "    </tr>\n",
              "  </tbody>\n",
              "</table>\n",
              "</div>"
            ],
            "text/plain": [
              "    rank  word      freq      zipf  count  zipf_count_estimate\n",
              "0      1   THE  0.030833  0.092087  30177         90128.889469\n",
              "1      2   AND  0.029042  0.046044  28424         45064.444734\n",
              "2      3     I  0.023038  0.030696  22548         30042.963156\n",
              "3      4    TO  0.021694  0.023022  21233         22532.222367\n",
              "4      5    OF  0.019231  0.018417  18822         18025.777894\n",
              "5      6     A  0.016602  0.015348  16249         15021.481578\n",
              "6      7   YOU  0.014852  0.013155  14536         12875.555638\n",
              "7      8    MY  0.013465  0.011511  13179         11266.111184\n",
              "8      9    IN  0.012539  0.010232  12272         10014.321052\n",
              "9     10  THAT  0.012239  0.009209  11979          9012.888947\n",
              "10    11    IS  0.009990  0.008372   9778          8193.535406\n",
              "11    12   NOT  0.009272  0.007674   9075          7510.740789\n",
              "12    13  WITH  0.008717  0.007084   8532          6932.991498\n",
              "13    14    ME  0.008454  0.006578   8274          6437.777819\n",
              "14    15   FOR  0.008428  0.006139   8249          6008.592631\n",
              "15    16    IT  0.008394  0.005755   8215          5633.055592\n",
              "16    17   HIS  0.007746  0.005417   7581          5301.699381\n",
              "17    18    BE  0.007545  0.005116   7385          5007.160526\n",
              "18    19  THIS  0.007329  0.004847   7173          4743.625762\n",
              "19    20  YOUR  0.007230  0.004604   7076          4506.444473"
            ]
          },
          "metadata": {
            "tags": []
          },
          "execution_count": 7
        }
      ]
    },
    {
      "cell_type": "markdown",
      "metadata": {
        "id": "wKFg5XYbjXcA",
        "colab_type": "text"
      },
      "source": [
        "## Draw a (log-log) plot "
      ]
    },
    {
      "cell_type": "code",
      "metadata": {
        "id": "t1RCYQcABgvG",
        "colab_type": "code",
        "colab": {
          "base_uri": "https://localhost:8080/",
          "height": 316
        },
        "outputId": "63f710c0-7c50-4d5b-e1e2-694939d4c4bb"
      },
      "source": [
        "ax = data[['rank','count','zipf_count_estimate']].plot(x='rank')\n",
        "\n",
        "ax.set( title='s=%5.2f' % s, xscale=\"log\", yscale=\"log\")"
      ],
      "execution_count": 8,
      "outputs": [
        {
          "output_type": "execute_result",
          "data": {
            "text/plain": [
              "[None, None, Text(0.5, 1.0, 's= 1.00')]"
            ]
          },
          "metadata": {
            "tags": []
          },
          "execution_count": 8
        },
        {
          "output_type": "display_data",
          "data": {
            "image/png": "[encoded data removed]",
            "text/plain": [
              "<Figure size 432x288 with 1 Axes>"
            ]
          },
          "metadata": {
            "tags": []
          }
        }
      ]
    },
    {
      "cell_type": "markdown",
      "metadata": {
        "id": "dKb3DOGwltl0",
        "colab_type": "text"
      },
      "source": [
        "## Exercises\n",
        "\n",
        "1. Perform a similar analysis considering the Portuguese language and [Os Lusíadas](https://www.gutenberg.org/ebooks/27236).\n",
        "\n",
        "2. Zipf's law can be approximated by a simpler expression:\n",
        "\n",
        "   $$f(k) = A / k^s$$\n",
        "  \n",
        "  where $s$ is the exponent as before and $A$ is a \"normalization\" constant. A common value for $A$ is $0.1$. Implement this alternative.\n",
        "\n"
      ]
    },
    {
      "cell_type": "markdown",
      "metadata": {
        "id": "qRrTNxfhhSHW",
        "colab_type": "text"
      },
      "source": [
        "# Getting the data\n"
      ]
    },
    {
      "cell_type": "code",
      "metadata": {
        "id": "ymeyYXOtinDm",
        "colab_type": "code",
        "colab": {
          "base_uri": "https://localhost:8080/",
          "height": 289
        },
        "outputId": "d7d3dd01-9751-4cf5-92e7-283df45b54af"
      },
      "source": [
        "root = '/tmp'\n",
        "data_file = root + '/Camoes.txt'\n",
        "!test -f $root/Camoes.txt || curl https://www.gutenberg.org/files/27236/27236-0.txt -o $data_file\n",
        "!ls -l $data_file\n",
        "!head -15 $data_file"
      ],
      "execution_count": 2,
      "outputs": [
        {
          "output_type": "stream",
          "text": [
            "-rw-r--r-- 1 root root 360008 Feb 25 13:43 /tmp/Camoes.txt\n",
            "﻿The Project Gutenberg EBook of Os Lusíadas, by Luís Vaz de Camões\n",
            "\n",
            "This eBook is for the use of anyone anywhere at no cost and with\n",
            "almost no restrictions whatsoever.  You may copy it, give it away or\n",
            "re-use it under the terms of the Project Gutenberg License included\n",
            "with this eBook or online at www.gutenberg.net\n",
            "\n",
            "\n",
            "Title: Os Lusíadas\n",
            "\n",
            "Author: Luís Vaz de Camões\n",
            "\n",
            "Release Date: November 11, 2008 [EBook #27236]\n",
            "\n",
            "Language: Portuguese\n"
          ],
          "name": "stdout"
        }
      ]
    },
    {
      "cell_type": "markdown",
      "metadata": {
        "id": "jZ9DrFw4mDMB",
        "colab_type": "text"
      },
      "source": [
        "# Calculating word counts"
      ]
    },
    {
      "cell_type": "code",
      "metadata": {
        "id": "4txRpbBdl7XD",
        "colab_type": "code",
        "colab": {
          "base_uri": "https://localhost:8080/",
          "height": 204
        },
        "outputId": "07505c8f-3c13-406c-d27c-b4a461736dfb"
      },
      "source": [
        "def word_counts(file):\n",
        "  import re\n",
        "  with open(file,'r') as f:\n",
        "    frequency = {}\n",
        "    data = f.readlines()\n",
        "    for line in data:\n",
        "      # print(line)\n",
        "      line = re.sub('[ 0-9\\\"\\‘\\*\\.\\_\\+\\&\\/\\%\\-\\$\\#\\'\\)\\(\\[\\[\\],.!?;:\\t\\n\"]+', ' ', line.strip()).upper()\n",
        "      for word in line.split():\n",
        "        # print('W '+ word)\n",
        "        count = frequency.get(word, 0)\n",
        "        frequency[word] = count + 1\n",
        "    return frequency\n",
        "\n",
        "wf = word_counts(data_file)\n",
        "\n",
        "n = len(wf)\n",
        "\n",
        "sorted_wf = sorted(wf.items(),key=lambda item: item[1],reverse=True)\n",
        "\n",
        "print(\"Top 10 words:\")\n",
        "for i, v in enumerate(sorted_wf[:10]):\n",
        "  print('%d: \"%s\" - %d' % (i+1, v[0], v[1]))"
      ],
      "execution_count": 3,
      "outputs": [
        {
          "output_type": "stream",
          "text": [
            "Top 10 words:\n",
            "1: \"QUE\" - 2689\n",
            "2: \"O\" - 1898\n",
            "3: \"A\" - 1854\n",
            "4: \"DE\" - 1434\n",
            "5: \"SE\" - 896\n",
            "6: \"OS\" - 690\n",
            "7: \"DO\" - 636\n",
            "8: \"EM\" - 611\n",
            "9: \"DA\" - 508\n",
            "10: \"AS\" - 507\n"
          ],
          "name": "stdout"
        }
      ]
    },
    {
      "cell_type": "markdown",
      "metadata": {
        "id": "XAECkJJBmkmZ",
        "colab_type": "text"
      },
      "source": [
        "# Calculate Zipf's law estimate"
      ]
    },
    {
      "cell_type": "code",
      "metadata": {
        "id": "0Hbpqjjyl7to",
        "colab_type": "code",
        "colab": {}
      },
      "source": [
        "import numpy as np\n",
        "import pandas as pd\n",
        "# Calculate the Zipf values for a given frequency array (sorted in decreasing order)\n",
        "# and exponent.\n",
        "\n",
        "def zipf(n, s):\n",
        "   rank = np.arange(1, n+1)\n",
        "   zipf = (1/rank**s)/(np.sum(1/(rank**s)))\n",
        "   return zipf\n",
        "\n",
        "# Words\n",
        "words = [v[0] for v in sorted_wf]\n",
        "\n",
        "# Counts in a numpy array\n",
        "counts = np.array([v[1] for v in sorted_wf])\n",
        "\n",
        "# Total number of words\n",
        "N = np.sum(counts)\n",
        "\n",
        "# Unique words\n",
        "n = len(counts)\n",
        "\n",
        "# Frequencies\n",
        "freq = counts / N\n",
        "\n",
        "# Exponent\n",
        "s = 1\n",
        "\n",
        "# Get zipf estimate\n",
        "zipf = zipf(n,s)\n"
      ],
      "execution_count": 0,
      "outputs": []
    },
    {
      "cell_type": "code",
      "metadata": {
        "id": "u78u9-88l78j",
        "colab_type": "code",
        "colab": {}
      },
      "source": [
        ""
      ],
      "execution_count": 0,
      "outputs": []
    }
  ]
}