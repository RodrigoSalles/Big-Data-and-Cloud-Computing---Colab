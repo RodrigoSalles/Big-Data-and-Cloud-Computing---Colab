{
  "nbformat": 4,
  "nbformat_minor": 0,
  "metadata": {
    "colab": {
      "name": "Zipf's law",
      "provenance": [],
      "collapsed_sections": [],
      "toc_visible": true,
      "include_colab_link": true
    },
    "kernelspec": {
      "name": "python3",
      "display_name": "Python 3"
    }
  },
  "cells": [
    {
      "cell_type": "markdown",
      "metadata": {
        "id": "view-in-github",
        "colab_type": "text"
      },
      "source": [
        "<a href=\"https://colab.research.google.com/github/RodrigoSalles/Big-Data-and-Cloud-Computing---Colab/blob/master/Zipf's_law.ipynb\" target=\"_parent\"><img src=\"https://colab.research.google.com/assets/colab-badge.svg\" alt=\"Open In Colab\"/></a>"
      ]
    },
    {
      "cell_type": "markdown",
      "metadata": {
        "id": "UeSeTSn_6zjq",
        "colab_type": "text"
      },
      "source": [
        "# Example data processing - Zipf's law\n",
        "\n",
        "**[Big Data and Cloud Computing](https://www.dcc.fc.up.pt/~edrdo/aulas/bdcc), Eduardo R. B. Marques, DCC/FCUP**\n"
      ]
    },
    {
      "cell_type": "markdown",
      "metadata": {
        "id": "n3T3Wxw3vaJy",
        "colab_type": "text"
      },
      "source": [
        "## Zipf's law\n",
        "\n",
        "In a corpus (e.g., list of documents) of a language (e.g., Portuguese), the frequency of a word tends to be inversely proportional to its rank in the global list of words sorted by decreasing frequency. \n",
        "\n",
        "This trait is captured by [Zipf's law](https://en.wikipedia.org/wiki/Zipf%27s_law), formulated by American linguist [George Kingsley Zipf](https://en.wikipedia.org/wiki/George_Kingsley_Zipf). \n",
        "\n",
        "Let $n$ be the number words in a corpus. For a fixed exponent $s > 0$ (usually close to $1$), Zipf's law estimates that the frequency of the $k$-th most frequent word is approximated by\n",
        "\n",
        "$$\n",
        "f(k) = \\frac{(1/k^s)}{ \\sum_{i=1}^n (1 / i^s)}\n",
        "$$\n",
        "\n",
        "In this notebook we analyze if the English language conforms to Zipf's law, taking as corpus the \"[Complete Works of William Shakespeare](https://www.gutenberg.org/ebooks/100)\", available from the [Gutenberg project](https://www.gutenberg.org/).\n"
      ]
    },
    {
      "cell_type": "markdown",
      "metadata": {
        "id": "h_0MbmEwvfL7",
        "colab_type": "text"
      },
      "source": [
        "## Getting the data"
      ]
    },
    {
      "cell_type": "code",
      "metadata": {
        "id": "Ws_6S81Cvoxm",
        "colab_type": "code",
        "colab": {}
      },
      "source": [
        "root = '/tmp'\n",
        "data_file = root + '/shakespeare.txt'\n",
        "!test -f $root/shakespeare.txt || curl https://www.gutenberg.org/files/100/100-0.txt -o $data_file\n",
        "!ls -l $data_file\n",
        "!head -10 $data_file"
      ],
      "execution_count": 0,
      "outputs": []
    },
    {
      "cell_type": "markdown",
      "metadata": {
        "id": "t9xcprgExBAO",
        "colab_type": "text"
      },
      "source": [
        "## Calculating word counts"
      ]
    },
    {
      "cell_type": "code",
      "metadata": {
        "id": "kcIRMZrCxEXQ",
        "colab_type": "code",
        "colab": {}
      },
      "source": [
        "def word_counts(file):\n",
        "  import re\n",
        "  with open(file,'r') as f:\n",
        "    frequency = {}\n",
        "    data = f.readlines()\n",
        "    for line in data:\n",
        "      # print(line)\n",
        "      line = re.sub('[ 0-9\\\"\\‘\\*\\.\\_\\+\\&\\/\\%\\-\\$\\#\\'\\)\\(\\[\\[\\],.!?;:\\t\\n\"]+', ' ', line.strip()).upper()\n",
        "      for word in line.split():\n",
        "        # print('W '+ word)\n",
        "        count = frequency.get(word, 0)\n",
        "        frequency[word] = count + 1\n",
        "    return frequency\n",
        "\n",
        "wf = word_counts(data_file)\n",
        "\n",
        "n = len(wf)\n",
        "\n",
        "sorted_wf = sorted(wf.items(),key=lambda item: item[1],reverse=True)\n",
        "\n",
        "print(\"Top 10 words:\")\n",
        "for i, v in enumerate(sorted_wf[:10]):\n",
        "  print('%d: \"%s\" - %d' % (i+1, v[0], v[1]))\n"
      ],
      "execution_count": 0,
      "outputs": []
    },
    {
      "cell_type": "markdown",
      "metadata": {
        "id": "7IECutnCf9_R",
        "colab_type": "text"
      },
      "source": [
        "## Calculate Zipf's law estimate\n",
        "\n",
        "\n",
        "\n"
      ]
    },
    {
      "cell_type": "code",
      "metadata": {
        "id": "xbUf4M45R6Ug",
        "colab_type": "code",
        "colab": {}
      },
      "source": [
        "import numpy as np\n",
        "import pandas as pd\n",
        "# Calculate the Zipf values for a given frequency array (sorted in decreasing order)\n",
        "# and exponent.\n",
        "\n",
        "def zipf(n, s):\n",
        "   rank = np.arange(1, n+1)\n",
        "   zipf = (1/rank**s)/(np.sum(1/(rank**s)))\n",
        "   return zipf\n",
        "\n",
        "# Words\n",
        "words = [v[0] for v in sorted_wf]\n",
        "\n",
        "# Counts in a numpy array\n",
        "counts = np.array([v[1] for v in sorted_wf])\n",
        "\n",
        "# Total number of words\n",
        "N = np.sum(counts)\n",
        "\n",
        "# Unique words\n",
        "n = len(counts)\n",
        "\n",
        "# Frequencies\n",
        "freq = counts / N\n",
        "\n",
        "# Exponent\n",
        "s = 1\n",
        "\n",
        "# Get zipf estimate\n",
        "zipf = zipf(n,s)\n",
        "\n"
      ],
      "execution_count": 0,
      "outputs": []
    },
    {
      "cell_type": "markdown",
      "metadata": {
        "id": "V69A7en1jChM",
        "colab_type": "text"
      },
      "source": [
        "## Comparing Zipf's estimate with the actual data"
      ]
    },
    {
      "cell_type": "code",
      "metadata": {
        "id": "-gsKZCmMjJLu",
        "colab_type": "code",
        "colab": {}
      },
      "source": [
        "# Organize data as a panda data frame\n",
        "data = pd.DataFrame(data={\n",
        "     'rank': np.arange(1,n+1),\n",
        "     'word': words, \n",
        "     'freq': freq, \n",
        "     'zipf': zipf,\n",
        "     'count': counts,\n",
        "     'zipf_count_estimate': zipf * N\n",
        "})\n",
        "data.head(20)"
      ],
      "execution_count": 0,
      "outputs": []
    },
    {
      "cell_type": "markdown",
      "metadata": {
        "id": "wKFg5XYbjXcA",
        "colab_type": "text"
      },
      "source": [
        "## Draw a (log-log) plot "
      ]
    },
    {
      "cell_type": "code",
      "metadata": {
        "id": "t1RCYQcABgvG",
        "colab_type": "code",
        "colab": {}
      },
      "source": [
        "ax = data[['rank','count','zipf_count_estimate']].plot(x='rank')\n",
        "\n",
        "ax.set( title='s=%5.2f' % s, xscale=\"log\", yscale=\"log\")"
      ],
      "execution_count": 0,
      "outputs": []
    },
    {
      "cell_type": "markdown",
      "metadata": {
        "id": "dKb3DOGwltl0",
        "colab_type": "text"
      },
      "source": [
        "## Exercises\n",
        "\n",
        "1. Perform a similar analysis considering the Portuguese language and [Os Lusíadas](https://www.gutenberg.org/ebooks/27236).\n",
        "\n",
        "2. Zipf's law can be approximated by a simpler expression:\n",
        "\n",
        "   $$f(k) = A / k^s$$\n",
        "  \n",
        "  where $s$ is the exponent as before and $A$ is a \"normalization\" constant. A common value for $A$ is $0.1$. Implement this alternative.\n",
        "\n"
      ]
    }
  ]
}