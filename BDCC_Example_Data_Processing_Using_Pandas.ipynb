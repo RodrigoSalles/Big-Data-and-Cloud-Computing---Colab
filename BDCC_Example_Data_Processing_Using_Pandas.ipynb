{
  "nbformat": 4,
  "nbformat_minor": 0,
  "metadata": {
    "colab": {
      "name": "BDCC - Example Data Processing Using Pandas.ipynb",
      "provenance": [],
      "collapsed_sections": [],
      "toc_visible": true,
      "include_colab_link": true
    },
    "kernelspec": {
      "name": "python3",
      "display_name": "Python 3"
    }
  },
  "cells": [
    {
      "cell_type": "markdown",
      "metadata": {
        "id": "view-in-github",
        "colab_type": "text"
      },
      "source": [
        "<a href=\"https://colab.research.google.com/github/RodrigoSalles/Big-Data-and-Cloud-Computing---Colab/blob/master/BDCC_Example_Data_Processing_Using_Pandas.ipynb\" target=\"_parent\"><img src=\"https://colab.research.google.com/assets/colab-badge.svg\" alt=\"Open In Colab\"/></a>"
      ]
    },
    {
      "cell_type": "markdown",
      "metadata": {
        "id": "37-PlDmhM4sU",
        "colab_type": "text"
      },
      "source": [
        "# Example data processing using the pandas API\n",
        "  \n",
        "\n",
        "**[Big Data and Cloud Computing](https://www.dcc.fc.up.pt/~edrdo/aulas/bdcc), Eduardo R. B. Marques, DCC/FCUP**\n",
        "\n",
        "To illustrate some simple data processing in Colab,we will make use of the popular [pandas](https://pandas.pydata.org/) library, in particular the [DataFrame](https://pandas.pydata.org/pandas-docs/stable/reference/api/pandas.DataFrame.html) API.\n",
        "\n",
        "\n",
        "  \n"
      ]
    },
    {
      "cell_type": "code",
      "metadata": {
        "id": "UgMpdnyE2TNa",
        "colab_type": "code",
        "colab": {}
      },
      "source": [
        "# Load the Pandas libraries with alias 'pd' \n",
        "import pandas as pd "
      ],
      "execution_count": 0,
      "outputs": []
    },
    {
      "cell_type": "markdown",
      "metadata": {
        "id": "FSXZJSZH2t2h",
        "colab_type": "text"
      },
      "source": [
        "## References\n",
        "\n",
        "- [Data Manipulation with Pandas](https://jakevdp.github.io/PythonDataScienceHandbook/03.00-introduction-to-pandas.html), chapter 3 of the [Python Data Science Handbook](https://jakevdp.github.io/PythonDataScienceHandbook/index.html) (freely available online) by [Jake VanderPlas](http://vanderplas.com/).\n",
        "- Official documentation\n",
        " - [Getting started](https://pandas.pydata.org/docs/getting_started/) guide:\n",
        "   - [10 minutes to pandas](https://pandas.pydata.org/docs/getting_started/10min.html)\n",
        "   - [Introduction to DataFrame](https://pandas.pydata.org/docs/getting_started/dsintro.html#dataframe)\n",
        "  - [Complete API Reference](https://pandas.pydata.org/docs/reference/index.html), including the features we make use of here:\n",
        "    - [DataFrame API](https://pandas.pydata.org/pandas-docs/stable/reference/api/pandas.DataFrame.html)\n",
        "    - [Input/Ouput](https://pandas.pydata.org/docs/reference/io.html)\n"
      ]
    },
    {
      "cell_type": "markdown",
      "metadata": {
        "id": "6oU8fhXv1tnN",
        "colab_type": "text"
      },
      "source": [
        "## The MovieLens data set\n",
        "\n",
        "We will use a small [MovieLens](https://grouplens.org/datasets/movielens/) data set from the [GroupLens project](https://grouplens.org/). \n",
        "\n",
        "The following commands will fetch the\n",
        "data set and store it into a folder in the `/tmp` directory of the Colab runtime.\n",
        "\n",
        "Mount your Google Drive so that data can be saved to `/content/drive/My Drive/bdcc/lab2`, then set the `use_google_drive` to `True` below.\n"
      ]
    },
    {
      "cell_type": "code",
      "metadata": {
        "id": "JabwmUk7N5rq",
        "colab_type": "code",
        "colab": {}
      },
      "source": [
        "use_google_drive=True\n",
        "if (use_google_drive):\n",
        "  root = '/content/drive/My Drive/bdcc/lab2'\n",
        "else:\n",
        "  root = '/tmp/bdcc/lab2'\n",
        "\n",
        "!mkdir -p \"$root\"\n",
        "!curl http://files.grouplens.org/datasets/movielens/ml-latest-small.zip -o \"$root/ml-latest-small.zip\"\n",
        "!cd \"$root\" && unzip -o ml-latest-small.zip \n",
        "!ls \"$root/ml-latest-small\""
      ],
      "execution_count": 0,
      "outputs": []
    },
    {
      "cell_type": "markdown",
      "metadata": {
        "id": "eGQPxGEDPdDT",
        "colab_type": "text"
      },
      "source": [
        "### A brief look at the data"
      ]
    },
    {
      "cell_type": "code",
      "metadata": {
        "id": "q8iV6-npP1li",
        "colab_type": "code",
        "colab": {}
      },
      "source": [
        "dataset_path = root + '/ml-latest-small/'"
      ],
      "execution_count": 0,
      "outputs": []
    },
    {
      "cell_type": "markdown",
      "metadata": {
        "id": "OiK3oRnQPh4G",
        "colab_type": "text"
      },
      "source": [
        "#### Movies"
      ]
    },
    {
      "cell_type": "code",
      "metadata": {
        "id": "z4Q_jnWfPVjs",
        "colab_type": "code",
        "colab": {}
      },
      "source": [
        "# Load movie data frame from the CSV file\n",
        "movies = pd.read_csv(dataset_path + 'movies.csv') \n",
        "movies"
      ],
      "execution_count": 0,
      "outputs": []
    },
    {
      "cell_type": "markdown",
      "metadata": {
        "id": "qFIFBGLpQYJG",
        "colab_type": "text"
      },
      "source": [
        "#### Tags"
      ]
    },
    {
      "cell_type": "code",
      "metadata": {
        "id": "3WxU3Gy1QgPh",
        "colab_type": "code",
        "colab": {}
      },
      "source": [
        "tags = pd.read_csv(dataset_path + 'tags.csv')\n",
        "tags"
      ],
      "execution_count": 0,
      "outputs": []
    },
    {
      "cell_type": "markdown",
      "metadata": {
        "id": "NhxKcfMXQqAQ",
        "colab_type": "text"
      },
      "source": [
        "#### Ratings"
      ]
    },
    {
      "cell_type": "code",
      "metadata": {
        "id": "gdoCR3mAQspb",
        "colab_type": "code",
        "colab": {}
      },
      "source": [
        "ratings = pd.read_csv(dataset_path + 'ratings.csv')\n",
        "ratings"
      ],
      "execution_count": 0,
      "outputs": []
    },
    {
      "cell_type": "markdown",
      "metadata": {
        "id": "pkJjPwyFRPDu",
        "colab_type": "text"
      },
      "source": [
        "## Some data processing examples\n",
        "\n",
        "#### Simple filtering\n",
        "\n",
        "What movie has id 1234 ? "
      ]
    },
    {
      "cell_type": "code",
      "metadata": {
        "id": "pCNe6eZrR5TM",
        "colab_type": "code",
        "colab": {}
      },
      "source": [
        "m1234 = movies[movies.movieId == 1234]\n",
        "m1234\n"
      ],
      "execution_count": 0,
      "outputs": []
    },
    {
      "cell_type": "markdown",
      "metadata": {
        "id": "LlS3n_KLgrDE",
        "colab_type": "text"
      },
      "source": [
        "What movie has \"Star Wars\" in the title?"
      ]
    },
    {
      "cell_type": "code",
      "metadata": {
        "id": "ikHwhwE-gyH5",
        "colab_type": "code",
        "colab": {}
      },
      "source": [
        "star_wars_movies = movies[movies.title.str.contains('Star Wars')]\n",
        "star_wars_movies"
      ],
      "execution_count": 0,
      "outputs": []
    },
    {
      "cell_type": "markdown",
      "metadata": {
        "id": "VM3J-worYyzd",
        "colab_type": "text"
      },
      "source": [
        "### Global rating rata\n"
      ]
    },
    {
      "cell_type": "markdown",
      "metadata": {
        "id": "dcd8gr1shHYL",
        "colab_type": "text"
      },
      "source": [
        "Let's now calculate a few stats "
      ]
    },
    {
      "cell_type": "code",
      "metadata": {
        "id": "MGT8KE7rTIRL",
        "colab_type": "code",
        "colab": {}
      },
      "source": [
        "ratings[['rating']].agg(['min','max','mean','std'])"
      ],
      "execution_count": 0,
      "outputs": []
    },
    {
      "cell_type": "markdown",
      "metadata": {
        "id": "OvBVJPLKh_A2",
        "colab_type": "text"
      },
      "source": [
        "Let us plot the global rating distribution using a [Seaborn](https://seaborn.pydata.org/) plot."
      ]
    },
    {
      "cell_type": "code",
      "metadata": {
        "id": "ZBPSYJigZlh3",
        "colab_type": "code",
        "colab": {}
      },
      "source": [
        "import seaborn as sb\n",
        "\n",
        "axes = sb.countplot(data=ratings, x='rating')"
      ],
      "execution_count": 0,
      "outputs": []
    },
    {
      "cell_type": "markdown",
      "metadata": {
        "id": "zUowxdgkiCon",
        "colab_type": "text"
      },
      "source": [
        "Let us  derive the same numbers that are shown in the plot ourselves."
      ]
    },
    {
      "cell_type": "code",
      "metadata": {
        "id": "0PMJbmlwiRqb",
        "colab_type": "code",
        "colab": {}
      },
      "source": [
        "counts = ratings.groupby('rating').rating.agg(['count'])\n",
        "counts"
      ],
      "execution_count": 0,
      "outputs": []
    },
    {
      "cell_type": "markdown",
      "metadata": {
        "id": "xhA_WlmOB79I",
        "colab_type": "text"
      },
      "source": [
        "### Order movies by average rating\n",
        "\n",
        "First derive the average ratings."
      ]
    },
    {
      "cell_type": "code",
      "metadata": {
        "id": "xT8HJlbeB_1n",
        "colab_type": "code",
        "colab": {}
      },
      "source": [
        "avg_ratings_by_movie = ratings.groupby('movieId').rating.agg(['count','mean'])\n",
        "avg_ratings_by_movie"
      ],
      "execution_count": 0,
      "outputs": []
    },
    {
      "cell_type": "markdown",
      "metadata": {
        "id": "4FL5MkJ7CzLe",
        "colab_type": "text"
      },
      "source": [
        "The information is more human-readable if we join in the movie information and sort the data by average rating and movie title."
      ]
    },
    {
      "cell_type": "code",
      "metadata": {
        "id": "IECR0laAC4Qa",
        "colab_type": "code",
        "colab": {}
      },
      "source": [
        "join_data = avg_ratings_by_movie.join(movies.set_index('movieId'))\n",
        "sorted_data = join_data.sort_values(by=['mean','title'], ascending=[False,True])\n",
        "sorted_data"
      ],
      "execution_count": 0,
      "outputs": []
    },
    {
      "cell_type": "markdown",
      "metadata": {
        "id": "aI8I2muvDu-j",
        "colab_type": "text"
      },
      "source": [
        "Suppose we now want to filter out films with less than 5 ratings and show the top 20 of those movies."
      ]
    },
    {
      "cell_type": "code",
      "metadata": {
        "id": "UvPQ8zlYD1Wh",
        "colab_type": "code",
        "colab": {}
      },
      "source": [
        "sorted_data.query('count >= 5').head(20)"
      ],
      "execution_count": 0,
      "outputs": []
    },
    {
      "cell_type": "markdown",
      "metadata": {
        "id": "JlhFMj7p_0Qd",
        "colab_type": "text"
      },
      "source": [
        "## Exercises\n",
        "\n",
        "\n",
        "\n",
        "1.   Analyse  the `tags` data frame. What are the  10 most used tags?\n",
        "2.   For the most used tag identify the movies that have been tagged with it. Display the movie title information.\n",
        "3.   What are the 10 movies that have been tagged more often? \n",
        "4.    At the other extreme, are there movies with no tags?\n",
        "\n",
        "\n"
      ]
    }
  ]
}