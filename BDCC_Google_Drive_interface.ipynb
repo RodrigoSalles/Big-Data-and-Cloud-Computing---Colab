{
  "nbformat": 4,
  "nbformat_minor": 0,
  "metadata": {
    "colab": {
      "name": "BDCC - Google Drive interface",
      "provenance": [],
      "collapsed_sections": [],
      "toc_visible": true,
      "include_colab_link": true
    },
    "kernelspec": {
      "name": "python3",
      "display_name": "Python 3"
    }
  },
  "cells": [
    {
      "cell_type": "markdown",
      "metadata": {
        "id": "view-in-github",
        "colab_type": "text"
      },
      "source": [
        "<a href=\"https://colab.research.google.com/github/RodrigoSalles/Big-Data-and-Cloud-Computing---Colab/blob/master/BDCC_Google_Drive_interface.ipynb\" target=\"_parent\"><img src=\"https://colab.research.google.com/assets/colab-badge.svg\" alt=\"Open In Colab\"/></a>"
      ]
    },
    {
      "cell_type": "markdown",
      "metadata": {
        "id": "6H5udvifsG_j",
        "colab_type": "text"
      },
      "source": [
        "# Colab - Google Drive interface\n",
        "\n",
        "**[Big Data and Cloud Computing](https://www.dcc.fc.up.pt/~edrdo/aulas/bdcc), Eduardo R. B. Marques, DCC/FCUP**\n",
        " \n",
        "\n"
      ]
    },
    {
      "cell_type": "markdown",
      "metadata": {
        "id": "inScvXpIzf5z",
        "colab_type": "text"
      },
      "source": [
        "## Introduction\n",
        "\n",
        "This notebook illustrates one of the ways to mount your Google Drive in the Colab runtime. "
      ]
    },
    {
      "cell_type": "markdown",
      "metadata": {
        "id": "2NrDj5lYuRzl",
        "colab_type": "text"
      },
      "source": [
        "## Setup\n",
        "\n",
        "1. Click the \"Files\" button in the left menu.\n",
        "  \n",
        "  ![](https://drive.google.com/uc?id=1-8o2KYtZ_mB5hnMN-fVHKSOxRwATO7NR)\n",
        "\n",
        "2. Click the \"Mount Drive\" button.\n",
        "\n",
        "  ![](https://drive.google.com/uc?id=1JPrg55J9i9OGvi8ZtcSyyk6nl7yyBED6)\n",
        "\n",
        "3. You will then be asked to confirm access to Google Drive.\n",
        "   \n",
        "  ![](https://drive.google.com/uc?id=1zaibbQUFf0rd6sD2VGQSvNWn3VxwsHLT)\n",
        "\n",
        "4. Your Google Drive should now be mounted, as you can see in the Files menu. You can use the \"file tree\" to manipulate the Google Drive contents.\n",
        "\n",
        "   ![](https://drive.google.com/uc?id=15GFfyWPjXGC-WlvjJvbFxxbKPjEpUV2N)\n",
        "\n",
        "\n"
      ]
    },
    {
      "cell_type": "markdown",
      "metadata": {
        "id": "o8c-hewi0llf",
        "colab_type": "text"
      },
      "source": [
        "## Access to Google Drive from the notebook\n",
        "\n",
        "### Google Drive path\n",
        "\n",
        "First things first, what is the path of the Google Drive ? \n",
        "\n",
        "The following command should indicate that the Google Drive is mounted on the local filesystem in the `/content/drive` path."
      ]
    },
    {
      "cell_type": "code",
      "metadata": {
        "id": "ecBGJS9JuPU6",
        "colab_type": "code",
        "colab": {}
      },
      "source": [
        "!mount | grep drive"
      ],
      "execution_count": 0,
      "outputs": []
    },
    {
      "cell_type": "markdown",
      "metadata": {
        "id": "tWdyhMB41Kik",
        "colab_type": "text"
      },
      "source": [
        "Ok, let us inspect the contents, in particular the contents of `My Drive/Colab Notebooks`. "
      ]
    },
    {
      "cell_type": "code",
      "metadata": {
        "id": "4xlUJIghuB16",
        "colab_type": "code",
        "colab": {}
      },
      "source": [
        "!ls /content/drive"
      ],
      "execution_count": 0,
      "outputs": []
    },
    {
      "cell_type": "code",
      "metadata": {
        "id": "jBu2hiHn1acw",
        "colab_type": "code",
        "colab": {}
      },
      "source": [
        "!ls /content/drive/My\\ Drive/Colab\\ Notebooks"
      ],
      "execution_count": 0,
      "outputs": []
    }
  ]
}