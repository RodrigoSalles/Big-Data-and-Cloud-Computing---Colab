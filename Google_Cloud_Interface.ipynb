{
  "nbformat": 4,
  "nbformat_minor": 0,
  "metadata": {
    "colab": {
      "name": "Google Cloud Interface.ipynb",
      "provenance": [],
      "collapsed_sections": [],
      "toc_visible": true,
      "include_colab_link": true
    },
    "kernelspec": {
      "name": "python3",
      "display_name": "Python 3"
    }
  },
  "cells": [
    {
      "cell_type": "markdown",
      "metadata": {
        "id": "view-in-github",
        "colab_type": "text"
      },
      "source": [
        "<a href=\"https://colab.research.google.com/github/RodrigoSalles/Big-Data-and-Cloud-Computing---Colab/blob/master/Google_Cloud_Interface.ipynb\" target=\"_parent\"><img src=\"https://colab.research.google.com/assets/colab-badge.svg\" alt=\"Open In Colab\"/></a>"
      ]
    },
    {
      "cell_type": "markdown",
      "metadata": {
        "id": "UeSeTSn_6zjq",
        "colab_type": "text"
      },
      "source": [
        "# Google Cloud interface\n",
        "\n",
        "**[Big Data and Cloud Computing](https://www.dcc.fc.up.pt/~edrdo/aulas/bdcc), Eduardo R. B. Marques, DCC/FCUP**\n",
        "\n",
        "This notebook explains how to setup automatic authentication for Google Cloud APIs and Google Cloud SDK utilities (e.g., `gcloud` or `gsutil`)."
      ]
    },
    {
      "cell_type": "markdown",
      "metadata": {
        "id": "CIcKaPLJ7HAP",
        "colab_type": "text"
      },
      "source": [
        "## Generating a service account and key file\n",
        "\n",
        "We first need to obtain a __key file__ for a GCP __service account__. \n",
        "\n",
        "- A service account is associated with a GCP project, letting you authenticate and access GCP resources in the project from external code, including Google Colab.\n",
        "- A key file plays the role of an authentication token.  \n",
        "\n",
        "The instructions are a summary of the [Getting Started with Authentication](https://cloud.google.com/docs/authentication/getting-started) GCP guide. We will use the Google Cloud Shell to generate the service key file."
      ]
    },
    {
      "cell_type": "markdown",
      "metadata": {
        "id": "4IJdqk068r_S",
        "colab_type": "text"
      },
      "source": [
        "### Access the Google Cloud Shell\n",
        "\n",
        "Access the [Google Cloud Console](https://console.cloud.google.com/),make sure your project is selected, then click the Google Cloud Shell button.\n",
        "\n",
        "![](https://drive.google.com/uc?id=1hk2LADT_GimQgOtKPfENZ1Jbd6SUKSr9)\n",
        "\n",
        "![](https://drive.google.com/uc?id=16DACIte8f6ipWos09njBhkgZDqJnBrzA)"
      ]
    },
    {
      "cell_type": "markdown",
      "metadata": {
        "id": "hy9mDM6e-vbx",
        "colab_type": "text"
      },
      "source": [
        "### Create service account and key file\n",
        "\n",
        "Issue the following commands in sequence (a summary of \n",
        "the [Getting Started with Authentication](https://cloud.google.com/docs/authentication/getting-started) GCP guide):\n",
        "\n",
        "1. Parameterize the name of the project (__P__) and the name of the service account (__S__) as environment variables (for convenience).\n",
        "  \n",
        "  ```\n",
        "  P=NAME_OF_YOUR_PROJECT\n",
        "  S=bdcc-colab\n",
        "  ```\n",
        "\n",
        "2. Create the service account\n",
        "\n",
        "  ```\n",
        "gcloud iam service-accounts create $S\n",
        "  ````\n",
        "\n",
        "3. Grant permissions to the service account.\n",
        "  \n",
        "  ```\n",
        "gcloud projects add-iam-policy-binding \"$P\" --member \"serviceAccount:$S@$P.iam.gserviceaccount.com\" --role \"roles/owner\"\n",
        "  ```\n",
        "4. Generate the key file, in this case named `bdcc-colab.json`.\n",
        "  \n",
        "  ```\n",
        "gcloud iam service-accounts keys create bdcc-colab.json --iam-account \"$S@$P.iam.gserviceaccount.com\"\n",
        "  ```\n",
        "\n",
        "5. Download the key file.\n",
        "  ```\n",
        "cloudshell download bdcc-colab.json\n",
        "  ```\n",
        "\n",
        "The steps and corresponding GCP output are illustrated below:\n",
        "\n",
        "```\n",
        "eduardorbmarques@cloudshell:~ (bdcc20)$ P=bdcc20\n",
        "eduardorbmarques@cloudshell:~ (bdcc20)$ S=bdcc-colab\n",
        "eduardorbmarques@cloudshell:~ (bdcc20)$ gcloud iam service-accounts create $S\n",
        "Created service account [bdcc-colab].\n",
        "eduardorbmarques@cloudshell:~ (bdcc20)$ gcloud projects add-iam-policy-binding \"$P\" --member \"serviceAccount:$S@$P.iam.gservicea\n",
        "ccount.com\" --role \"roles/owner\"\n",
        "Updated IAM policy for project [bdcc20].\n",
        "bindings:\n",
        "- members:\n",
        "  - serviceAccount:service-560713482346@gcf-admin-robot.iam.gserviceaccount.com\n",
        "  role: roles/cloudfunctions.serviceAgent\n",
        "- members:\n",
        "  - serviceAccount:service-560713482346@compute-system.iam.gserviceaccount.com\n",
        "  role: roles/compute.serviceAgent\n",
        "- members:\n",
        "  - serviceAccount:service-560713482346@container-engine-robot.iam.gserviceaccount.com\n",
        "  role: roles/container.serviceAgent\n",
        "- members:\n",
        "  - serviceAccount:560713482346-compute@developer.gserviceaccount.com\n",
        "  - serviceAccount:560713482346@cloudservices.gserviceaccount.com\n",
        "  - serviceAccount:bdcc20@appspot.gserviceaccount.com\n",
        "  - serviceAccount:service-560713482346@containerregistry.iam.gserviceaccount.com\n",
        "- members:\n",
        "  - serviceAccount:560713482346-compute@developer.gserviceaccount.com\n",
        "  - serviceAccount:560713482346@cloudservices.gserviceaccount.com\n",
        "  - serviceAccount:bdcc20@appspot.gserviceaccount.com\n",
        "  - serviceAccount:service-560713482346@containerregistry.iam.gserviceaccount.com\n",
        "  role: roles/editor\n",
        "- members:\n",
        "  - serviceAccount:bdcc-colab@bdcc20.iam.gserviceaccount.com\n",
        "  - serviceAccount:bdccservice@bdcc20.iam.gserviceaccount.com\n",
        "  - user:eduardorbmarques@gmail.com\n",
        "  role: roles/owner\n",
        "etag: BwWfPaTh12A=\n",
        "version: 1\n",
        "eduardorbmarques@cloudshell:~ (bdcc20)$ gcloud iam service-accounts keys create bdcc-colab.json --iam-account \"$S@$P.iam.gserviceaccount.com\"\n",
        "created key [95f02d6f6ee98187d2e5359691d498947727f8de] of type [json] as [bdcc-colab.json] for [bdcc-colab@bdcc20.iam.gserviceaccount.com]\n",
        "eduardorbmarques@cloudshell:~ (bdcc20)$ cloudshell download bdcc-colab.json\n",
        "```"
      ]
    },
    {
      "cell_type": "markdown",
      "metadata": {
        "id": "4Jg5mRlSGOr_",
        "colab_type": "text"
      },
      "source": [
        "## Use the credentials in Colab\n",
        "\n",
        "1. Upload the key file onto Google Drive (use the Google drive interface).\n",
        "2. Mount the Google Drive in this notebook.\n",
        "3. Assuming that the key file is stored in `/content/drive/My Drive/bdcc-colab.json` set up the `GOOGLE_APPLICATION_CREDENTIALS` environment variable by running the following cell.\n",
        "\n",
        "\n"
      ]
    },
    {
      "cell_type": "code",
      "metadata": {
        "id": "j0ztJ9IIIJpH",
        "colab_type": "code",
        "colab": {}
      },
      "source": [
        "import os\n",
        "os.environ['GOOGLE_APPLICATION_CREDENTIALS'] = '/content/drive/My Drive/bdcc-colab.json' \n",
        "!echo $GOOGLE_APPLICATION_CREDENTIALS"
      ],
      "execution_count": 0,
      "outputs": []
    },
    {
      "cell_type": "markdown",
      "metadata": {
        "id": "iNsZG0rZkerc",
        "colab_type": "text"
      },
      "source": [
        "### Google Cloud APIs\n",
        "\n",
        "The environment variable setting is enough for authentication when using several Google Cloud  APIs. For example we may use the [Google Cloud Storage API](https://googleapis.dev/python/storage/latest/client.html), as shown below:"
      ]
    },
    {
      "cell_type": "code",
      "metadata": {
        "id": "GBpnpPF4I8Wn",
        "colab_type": "code",
        "colab": {}
      },
      "source": [
        "from google.cloud import storage\n",
        "\n",
        "storage_client = storage.Client()\n",
        "\n",
        "buckets = storage_client.list_buckets()\n",
        "\n",
        "print('-- List of buckets in project \\\"' + storage_client.project + '\\\"')\n",
        "\n",
        "for b in buckets:\n",
        "  print(b.name)\n",
        "\n"
      ],
      "execution_count": 0,
      "outputs": []
    },
    {
      "cell_type": "markdown",
      "metadata": {
        "id": "RGWcjaQ6mFWf",
        "colab_type": "text"
      },
      "source": [
        "### Google Cloud SDK utilities\n",
        "\n",
        "For using the Google Cloud SDK utilities like `gcloud` or `gsutil`, we need to perform the following command first:"
      ]
    },
    {
      "cell_type": "code",
      "metadata": {
        "id": "FhzGNA0tmO3Q",
        "colab_type": "code",
        "colab": {}
      },
      "source": [
        "import os\n",
        "\n",
        "project='bdcc20' # change to your project name here\n",
        "os.environ['GCP_PROJECT'] = project \n",
        "os.environ['GCP_ACCOUNT'] = 'bdcc-colab@' + project + '.iam.gserviceaccount.com'\n",
        "\n",
        "!gcloud auth activate-service-account \"$GCP_ACCOUNT\" --key-file=\"$GOOGLE_APPLICATION_CREDENTIALS\" --project=\"$GCP_PROJECT\""
      ],
      "execution_count": 0,
      "outputs": []
    },
    {
      "cell_type": "markdown",
      "metadata": {
        "id": "FTPbUvAfmpL9",
        "colab_type": "text"
      },
      "source": [
        "We can now use `gcloud` and  `gsutil`."
      ]
    },
    {
      "cell_type": "code",
      "metadata": {
        "id": "eiyICJoamvTh",
        "colab_type": "code",
        "colab": {}
      },
      "source": [
        "!gcloud info"
      ],
      "execution_count": 0,
      "outputs": []
    },
    {
      "cell_type": "markdown",
      "metadata": {
        "id": "NVnONDNVnjVY",
        "colab_type": "text"
      },
      "source": [
        "... and `gsutil` as well:"
      ]
    },
    {
      "cell_type": "code",
      "metadata": {
        "id": "7rYqWM5ennDC",
        "colab_type": "code",
        "colab": {}
      },
      "source": [
        "!gsutil ls"
      ],
      "execution_count": 0,
      "outputs": []
    }
  ]
}